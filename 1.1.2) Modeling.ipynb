{
 "cells": [
  {
   "cell_type": "code",
   "execution_count": 36,
   "metadata": {},
   "outputs": [],
   "source": [
    "import numpy as np\n",
    "import pandas as pd\n",
    "%matplotlib inline\n",
    "import matplotlib.pyplot as plt\n",
    "from sklearn.model_selection import train_test_split, GridSearchCV\n",
    "from sklearn import metrics\n",
    "from sklearn.metrics import accuracy_score, confusion_matrix\n",
    "from sklearn.pipeline import Pipeline\n",
    "from sklearn.preprocessing import StandardScaler\n",
    "from sklearn.linear_model import LogisticRegression\n",
    "from sklearn.ensemble import RandomForestClassifier\n",
    "from sklearn.model_selection import train_test_split\n",
    "from sklearn.model_selection import RandomizedSearchCV, GridSearchCV, KFold\n",
    "from sklearn.metrics import accuracy_score, log_loss, multilabel_confusion_matrix, f1_score, average_precision_score"
   ]
  },
  {
   "cell_type": "markdown",
   "metadata": {},
   "source": [
    "Dataset is split 80%/20% as training/testing data Multi - Classification model ROC/AUC is used to evaluate predictions\u000b",
    "\u000b",
    "Models used -DecisionTreeClassifier -RandomForestClassifier -XGBoostClassifier"
   ]
  },
  {
   "cell_type": "code",
   "execution_count": 37,
   "metadata": {},
   "outputs": [
    {
     "name": "stdout",
     "output_type": "stream",
     "text": [
      "no stored variable #moving dataset from previous notebook\n"
     ]
    }
   ],
   "source": [
    "%store -r df #moving dataset from previous notebook"
   ]
  },
  {
   "cell_type": "code",
   "execution_count": 38,
   "metadata": {},
   "outputs": [],
   "source": [
    "from sklearn.model_selection import train_test_split\n",
    "X = df[['status', 'location', 'amount_mean', 'operation_mean', 'incoming_mean', 'outgoing_mean', 'incoming_max',\n",
    "'outgoing_max', 'incoming_min', 'outgoing_min', 'age', 'Generation', 'Life-Cycle', 'Female', 'Male', \n",
    "'email_types', 'type_mean_email', 'credit-amount-gr', 'loan_payment_mean', 'Student', 'Employed', 'Resident']]\n",
    "Y = df.iloc[:, 8]\n",
    "X_train, X_test, y_train, y_test = train_test_split(X, Y, test_size=0.2, random_state=0)"
   ]
  },
  {
   "cell_type": "code",
   "execution_count": 39,
   "metadata": {},
   "outputs": [
    {
     "name": "stdout",
     "output_type": "stream",
     "text": [
      "<class 'pandas.core.frame.DataFrame'>\n",
      "Int64Index: 682 entries, 0 to 681\n",
      "Data columns (total 22 columns):\n",
      " #   Column             Non-Null Count  Dtype  \n",
      "---  ------             --------------  -----  \n",
      " 0   status             682 non-null    int64  \n",
      " 1   location           682 non-null    int64  \n",
      " 2   amount_mean        682 non-null    float64\n",
      " 3   operation_mean     682 non-null    float64\n",
      " 4   incoming_mean      682 non-null    float64\n",
      " 5   outgoing_mean      682 non-null    float64\n",
      " 6   incoming_max       682 non-null    float64\n",
      " 7   outgoing_max       682 non-null    float64\n",
      " 8   incoming_min       682 non-null    float64\n",
      " 9   outgoing_min       682 non-null    float64\n",
      " 10  age                682 non-null    float64\n",
      " 11  Generation         682 non-null    int64  \n",
      " 12  Life-Cycle         682 non-null    int64  \n",
      " 13  Female             682 non-null    int64  \n",
      " 14  Male               682 non-null    int64  \n",
      " 15  email_types        682 non-null    int64  \n",
      " 16  type_mean_email    682 non-null    float64\n",
      " 17  credit-amount-gr   682 non-null    int64  \n",
      " 18  loan_payment_mean  682 non-null    float64\n",
      " 19  Student            682 non-null    int64  \n",
      " 20  Employed           682 non-null    int64  \n",
      " 21  Resident           682 non-null    int64  \n",
      "dtypes: float64(11), int64(11)\n",
      "memory usage: 122.5 KB\n"
     ]
    }
   ],
   "source": [
    "X.info()"
   ]
  },
  {
   "cell_type": "markdown",
   "metadata": {},
   "source": [
    "# Random Forest"
   ]
  },
  {
   "cell_type": "code",
   "execution_count": 109,
   "metadata": {},
   "outputs": [
    {
     "name": "stdout",
     "output_type": "stream",
     "text": [
      "Logarithmic Loss: 0.21044798065017797\n"
     ]
    },
    {
     "name": "stderr",
     "output_type": "stream",
     "text": [
      "/Users/amihailovs/opt/anaconda3/lib/python3.7/site-packages/sklearn/ensemble/forest.py:245: FutureWarning: The default value of n_estimators will change from 10 in version 0.20 to 100 in 0.22.\n",
      "  \"10 in version 0.20 to 100 in 0.22.\", FutureWarning)\n"
     ]
    }
   ],
   "source": [
    "rf_tree = RandomForestClassifier()\n",
    "rf_tree.fit(X_train, y_train)\n",
    "y_pred = rf_tree.predict_proba(X_test)\n",
    "\n",
    "print('Logarithmic Loss:', metrics.log_loss(y_test, y_pred))"
   ]
  },
  {
   "cell_type": "markdown",
   "metadata": {},
   "source": [
    "## Optimization"
   ]
  },
  {
   "cell_type": "markdown",
   "metadata": {},
   "source": [
    "### Grid search"
   ]
  },
  {
   "cell_type": "code",
   "execution_count": 121,
   "metadata": {},
   "outputs": [],
   "source": [
    "rf_params = {'min_samples_split': [2, 3, 4, 5, 6], \n",
    "              'min_samples_leaf': [4, 6, 8, 12, 15],\n",
    "              'n_estimators': [100, 150, 170, 200, 300],\n",
    "              'max_depth': [10, 20, 30, 50, 70]}\n",
    "\n",
    "kf = KFold(n_splits=5)"
   ]
  },
  {
   "cell_type": "code",
   "execution_count": 122,
   "metadata": {},
   "outputs": [],
   "source": [
    "grid_searcher_rf = GridSearchCV(estimator=rf_tree, param_grid=rf_params, \n",
    "                             cv=kf, verbose=1, n_jobs=4)"
   ]
  },
  {
   "cell_type": "code",
   "execution_count": 123,
   "metadata": {},
   "outputs": [
    {
     "name": "stdout",
     "output_type": "stream",
     "text": [
      "Fitting 5 folds for each of 625 candidates, totalling 3125 fits\n"
     ]
    },
    {
     "name": "stderr",
     "output_type": "stream",
     "text": [
      "[Parallel(n_jobs=4)]: Using backend LokyBackend with 4 concurrent workers.\n",
      "[Parallel(n_jobs=4)]: Done  42 tasks      | elapsed:    6.3s\n",
      "[Parallel(n_jobs=4)]: Done 192 tasks      | elapsed:   25.1s\n",
      "[Parallel(n_jobs=4)]: Done 442 tasks      | elapsed:   58.4s\n",
      "[Parallel(n_jobs=4)]: Done 792 tasks      | elapsed:  1.7min\n",
      "[Parallel(n_jobs=4)]: Done 1242 tasks      | elapsed:  2.5min\n",
      "[Parallel(n_jobs=4)]: Done 1792 tasks      | elapsed:  3.9min\n",
      "[Parallel(n_jobs=4)]: Done 2442 tasks      | elapsed:  5.1min\n",
      "[Parallel(n_jobs=4)]: Done 3125 out of 3125 | elapsed:  6.4min finished\n"
     ]
    },
    {
     "data": {
      "text/plain": [
       "GridSearchCV(cv=KFold(n_splits=5, random_state=None, shuffle=False),\n",
       "             error_score='raise-deprecating',\n",
       "             estimator=RandomForestClassifier(bootstrap=True, class_weight=None,\n",
       "                                              criterion='gini', max_depth=None,\n",
       "                                              max_features='auto',\n",
       "                                              max_leaf_nodes=None,\n",
       "                                              min_impurity_decrease=0.0,\n",
       "                                              min_impurity_split=None,\n",
       "                                              min_samples_leaf=1,\n",
       "                                              min_samples_split=2,\n",
       "                                              min_weight_fraction_leaf=0.0,\n",
       "                                              n_estimators=10, n_jobs=None,\n",
       "                                              oob_score=False,\n",
       "                                              random_state=None, verbose=0,\n",
       "                                              warm_start=False),\n",
       "             iid='warn', n_jobs=4,\n",
       "             param_grid={'max_depth': [10, 20, 30, 50, 70],\n",
       "                         'min_samples_leaf': [4, 6, 8, 12, 15],\n",
       "                         'min_samples_split': [2, 3, 4, 5, 6],\n",
       "                         'n_estimators': [100, 150, 170, 200, 300]},\n",
       "             pre_dispatch='2*n_jobs', refit=True, return_train_score=False,\n",
       "             scoring=None, verbose=1)"
      ]
     },
     "execution_count": 123,
     "metadata": {},
     "output_type": "execute_result"
    }
   ],
   "source": [
    "grid_searcher_rf.fit(X_train, y_train)"
   ]
  },
  {
   "cell_type": "code",
   "execution_count": 124,
   "metadata": {},
   "outputs": [
    {
     "data": {
      "text/plain": [
       "({'max_depth': 70,\n",
       "  'min_samples_leaf': 4,\n",
       "  'min_samples_split': 6,\n",
       "  'n_estimators': 150},\n",
       " 0.9357798165137615)"
      ]
     },
     "execution_count": 124,
     "metadata": {},
     "output_type": "execute_result"
    }
   ],
   "source": [
    "grid_searcher_rf.best_params_, grid_searcher_rf.best_score_"
   ]
  },
  {
   "cell_type": "code",
   "execution_count": 125,
   "metadata": {},
   "outputs": [],
   "source": [
    "rf_tree_opt = RandomForestClassifier(\n",
    "    n_estimators=150,\n",
    "    min_samples_split=6,\n",
    "    min_samples_leaf=4,\n",
    "    max_features='log2',\n",
    "    max_depth=70,\n",
    "    bootstrap=True\n",
    ")"
   ]
  },
  {
   "cell_type": "code",
   "execution_count": 126,
   "metadata": {},
   "outputs": [
    {
     "data": {
      "text/plain": [
       "array([[2.46774892e-02, 7.72893218e-02, 8.60558682e-01, 3.74745070e-02],\n",
       "       [4.61111111e-03, 1.44922670e-02, 9.71521775e-01, 9.37484737e-03],\n",
       "       [1.58838134e-02, 3.84624635e-02, 9.28278469e-01, 1.73752544e-02],\n",
       "       [2.41558442e-03, 4.95238095e-03, 9.89298701e-01, 3.33333333e-03],\n",
       "       [1.66137566e-02, 9.59292559e-02, 8.69513357e-01, 1.79436304e-02],\n",
       "       [2.85714286e-03, 1.15396825e-02, 9.76555556e-01, 9.04761905e-03],\n",
       "       [2.05484571e-01, 3.12684519e-01, 1.52503608e-01, 3.29327302e-01],\n",
       "       [1.33333333e-03, 2.66666667e-03, 9.96000000e-01, 0.00000000e+00],\n",
       "       [0.00000000e+00, 7.21500722e-03, 9.90284993e-01, 2.50000000e-03],\n",
       "       [4.51914099e-03, 2.10613276e-02, 9.63910873e-01, 1.05086580e-02],\n",
       "       [1.09898225e-01, 5.88882025e-01, 1.82859166e-01, 1.18360584e-01],\n",
       "       [7.00577201e-03, 8.59858105e-02, 8.85783069e-01, 2.12253487e-02],\n",
       "       [6.22222222e-03, 7.24514331e-02, 8.96406870e-01, 2.49194749e-02],\n",
       "       [2.73809524e-03, 3.17460317e-03, 9.88597884e-01, 5.48941799e-03],\n",
       "       [0.00000000e+00, 8.74074074e-03, 9.88296296e-01, 2.96296296e-03],\n",
       "       [8.66239316e-03, 8.49381452e-02, 8.94853165e-01, 1.15462963e-02],\n",
       "       [3.86562882e-02, 4.38048618e-02, 8.54193418e-01, 6.33454323e-02],\n",
       "       [4.72222222e-03, 8.60336700e-02, 8.90320587e-01, 1.89235209e-02],\n",
       "       [9.47712418e-04, 5.22588523e-03, 9.88285277e-01, 5.54112554e-03],\n",
       "       [2.24161662e-01, 3.26107291e-01, 2.88495996e-01, 1.61235051e-01],\n",
       "       [3.49630000e-02, 4.20559441e-02, 8.75415085e-01, 4.75659711e-02],\n",
       "       [2.88445446e-01, 1.10197410e-01, 2.04019204e-01, 3.97337940e-01],\n",
       "       [1.72535262e-01, 2.55268487e-01, 2.08678341e-01, 3.63517910e-01],\n",
       "       [1.66666667e-03, 2.30735931e-02, 9.67002165e-01, 8.25757576e-03],\n",
       "       [4.33333333e-03, 1.52520443e-02, 9.71653680e-01, 8.76094276e-03],\n",
       "       [0.00000000e+00, 6.66666667e-04, 9.99333333e-01, 0.00000000e+00],\n",
       "       [0.00000000e+00, 0.00000000e+00, 9.98518519e-01, 1.48148148e-03],\n",
       "       [1.81792311e-01, 3.94857215e-01, 1.78582286e-01, 2.44768188e-01],\n",
       "       [6.34920635e-03, 1.24957265e-02, 9.75916972e-01, 5.23809524e-03],\n",
       "       [2.73435040e-01, 3.71278456e-01, 1.64299681e-01, 1.90986824e-01],\n",
       "       [4.44444444e-03, 1.15000000e-02, 9.82722222e-01, 1.33333333e-03],\n",
       "       [0.00000000e+00, 3.33333333e-03, 9.95333333e-01, 1.33333333e-03],\n",
       "       [1.97429792e-02, 8.24155289e-02, 8.66160284e-01, 3.16812077e-02],\n",
       "       [1.04737855e-02, 2.55661376e-02, 9.29470418e-01, 3.44896585e-02],\n",
       "       [0.00000000e+00, 5.22222222e-03, 9.93444444e-01, 1.33333333e-03],\n",
       "       [2.03352087e-01, 1.60727184e-01, 1.74404354e-01, 4.61516375e-01],\n",
       "       [2.17535245e-01, 2.10058901e-01, 2.27230844e-01, 3.45175010e-01],\n",
       "       [3.33333333e-03, 6.66161616e-03, 9.88338384e-01, 1.66666667e-03],\n",
       "       [5.23809524e-03, 6.05921856e-03, 9.87036020e-01, 1.66666667e-03],\n",
       "       [1.90358614e-01, 1.82074999e-01, 2.30449088e-01, 3.97117299e-01],\n",
       "       [1.05219281e-01, 5.98250398e-01, 1.16324527e-01, 1.80205794e-01],\n",
       "       [2.82152477e-02, 8.20601251e-02, 8.68187350e-01, 2.15372775e-02],\n",
       "       [5.97883598e-03, 6.90476190e-03, 9.86164021e-01, 9.52380952e-04],\n",
       "       [4.66666667e-03, 1.15714286e-02, 9.83761905e-01, 0.00000000e+00],\n",
       "       [9.34920635e-03, 1.56412291e-02, 9.68454009e-01, 6.55555556e-03],\n",
       "       [0.00000000e+00, 3.32112332e-03, 9.96678877e-01, 0.00000000e+00],\n",
       "       [1.77304479e-02, 2.57358674e-02, 9.46218870e-01, 1.03148148e-02],\n",
       "       [0.00000000e+00, 2.17460317e-02, 9.78253968e-01, 0.00000000e+00],\n",
       "       [9.52380952e-04, 3.09799253e-02, 9.64456583e-01, 3.61111111e-03],\n",
       "       [3.92156863e-04, 0.00000000e+00, 9.99607843e-01, 0.00000000e+00],\n",
       "       [1.31806157e-02, 1.11658099e-01, 8.63553634e-01, 1.16076516e-02],\n",
       "       [0.00000000e+00, 6.78571429e-03, 9.93214286e-01, 0.00000000e+00],\n",
       "       [1.77003378e-01, 4.10609916e-01, 2.64556182e-01, 1.47830524e-01],\n",
       "       [3.05010893e-03, 1.05010893e-02, 9.86056645e-01, 3.92156863e-04],\n",
       "       [1.66666667e-03, 1.12121212e-02, 9.81306397e-01, 5.81481481e-03],\n",
       "       [3.92156863e-04, 1.71459836e-02, 9.75564313e-01, 6.89754690e-03],\n",
       "       [2.10967551e-02, 9.05285504e-02, 8.76643278e-01, 1.17314167e-02],\n",
       "       [4.72107366e-01, 1.94357780e-01, 9.14332400e-02, 2.42101614e-01],\n",
       "       [0.00000000e+00, 0.00000000e+00, 9.96363636e-01, 3.63636364e-03],\n",
       "       [1.90476190e-03, 1.64047619e-02, 9.80738095e-01, 9.52380952e-04],\n",
       "       [2.69719302e-01, 3.75350868e-01, 1.85309969e-01, 1.69619862e-01],\n",
       "       [1.66666667e-03, 3.66666667e-03, 9.94666667e-01, 0.00000000e+00],\n",
       "       [7.51181411e-02, 4.54774115e-02, 8.32309117e-01, 4.70953306e-02],\n",
       "       [0.00000000e+00, 7.25925926e-03, 9.92740741e-01, 0.00000000e+00],\n",
       "       [2.32023902e-02, 9.20239113e-02, 8.15872831e-01, 6.89008677e-02],\n",
       "       [1.19158249e-02, 7.68891294e-02, 8.48870370e-01, 6.23246753e-02],\n",
       "       [1.03973064e-02, 1.37994228e-02, 9.65961520e-01, 9.84175084e-03],\n",
       "       [1.37659748e-02, 9.45431975e-02, 8.49076220e-01, 4.26146076e-02],\n",
       "       [3.59552718e-01, 1.67008254e-01, 1.66175157e-01, 3.07263871e-01],\n",
       "       [1.04440911e-01, 5.35905428e-01, 1.62449384e-01, 1.97204277e-01],\n",
       "       [1.11111111e-03, 3.89378008e-02, 9.55314336e-01, 4.63675214e-03],\n",
       "       [4.66666667e-03, 9.55555556e-03, 9.77566138e-01, 8.21164021e-03],\n",
       "       [4.24779229e-02, 4.74013949e-02, 8.86490831e-01, 2.36298516e-02],\n",
       "       [3.96825397e-03, 2.52391846e-02, 9.69903673e-01, 8.88888889e-04],\n",
       "       [2.00000000e-03, 2.42923977e-02, 9.67596491e-01, 6.11111111e-03],\n",
       "       [7.08472268e-02, 5.48155104e-01, 2.90593203e-01, 9.04044659e-02],\n",
       "       [1.48750805e-01, 3.36019055e-01, 8.69684945e-02, 4.28261646e-01],\n",
       "       [1.35901876e-02, 6.66666667e-03, 9.61282828e-01, 1.84603175e-02],\n",
       "       [7.14285714e-03, 7.79202279e-03, 9.77557184e-01, 7.50793651e-03],\n",
       "       [0.00000000e+00, 1.27910053e-02, 9.87208995e-01, 0.00000000e+00],\n",
       "       [6.19047619e-03, 1.89872535e-02, 9.64035835e-01, 1.07864358e-02],\n",
       "       [8.42490842e-03, 2.03703704e-03, 9.88585674e-01, 9.52380952e-04],\n",
       "       [4.61399711e-03, 5.09936267e-02, 9.29908610e-01, 1.44837662e-02],\n",
       "       [1.00588235e-02, 2.22222222e-03, 9.84861811e-01, 2.85714286e-03],\n",
       "       [1.47705628e-02, 3.74586340e-02, 9.40780904e-01, 6.98989899e-03],\n",
       "       [3.05555556e-03, 0.00000000e+00, 9.87554113e-01, 9.39033189e-03],\n",
       "       [7.11904762e-03, 1.27380952e-02, 9.75968254e-01, 4.17460317e-03],\n",
       "       [1.12063492e-02, 3.57873978e-02, 9.42506253e-01, 1.05000000e-02],\n",
       "       [2.97675103e-02, 4.82380952e-02, 9.02052041e-01, 1.99423539e-02],\n",
       "       [0.00000000e+00, 4.33910534e-03, 9.93756133e-01, 1.90476190e-03],\n",
       "       [5.58972509e-02, 7.61441651e-01, 1.19529304e-01, 6.31317941e-02],\n",
       "       [3.43915344e-03, 6.23015873e-03, 9.81534392e-01, 8.79629630e-03],\n",
       "       [2.27272727e-03, 2.61438191e-02, 9.57603656e-01, 1.39797980e-02],\n",
       "       [1.86706692e-01, 5.15871448e-01, 1.74781423e-01, 1.22640436e-01],\n",
       "       [2.33470427e-01, 5.08192594e-01, 1.01330051e-01, 1.57006927e-01],\n",
       "       [2.22222222e-03, 9.00000000e-03, 9.88777778e-01, 0.00000000e+00],\n",
       "       [0.00000000e+00, 1.85185185e-03, 9.93333333e-01, 4.81481481e-03],\n",
       "       [2.36550847e-01, 4.73578912e-01, 1.29830688e-01, 1.60039553e-01],\n",
       "       [9.31789137e-02, 7.15092611e-01, 1.09007937e-01, 8.27205387e-02],\n",
       "       [2.96296296e-03, 1.01111111e-02, 9.86925926e-01, 0.00000000e+00],\n",
       "       [2.06349206e-03, 3.25645814e-02, 9.64631186e-01, 7.40740741e-04],\n",
       "       [5.91025641e-03, 4.38747135e-02, 9.36475449e-01, 1.37395807e-02],\n",
       "       [6.66666667e-04, 1.57777778e-02, 9.82888889e-01, 6.66666667e-04],\n",
       "       [9.51811152e-03, 9.80451585e-02, 8.67560458e-01, 2.48762719e-02],\n",
       "       [3.35417055e-01, 1.78391627e-01, 1.85386051e-01, 3.00805268e-01],\n",
       "       [0.00000000e+00, 5.55555556e-04, 9.99444444e-01, 0.00000000e+00],\n",
       "       [1.48148148e-03, 1.89035088e-02, 9.76281676e-01, 3.33333333e-03],\n",
       "       [2.00000000e-03, 1.33333333e-03, 9.95555556e-01, 1.11111111e-03],\n",
       "       [5.71428571e-03, 4.67032967e-03, 9.86043956e-01, 3.57142857e-03],\n",
       "       [5.12820513e-04, 9.59035409e-03, 9.87230159e-01, 2.66666667e-03],\n",
       "       [6.58730159e-03, 1.38449328e-02, 9.76512210e-01, 3.05555556e-03],\n",
       "       [1.90476190e-03, 2.57142857e-03, 9.94571429e-01, 9.52380952e-04],\n",
       "       [1.21851852e-02, 5.61798942e-02, 9.16507937e-01, 1.51269841e-02],\n",
       "       [2.21885269e-02, 1.35704539e-02, 9.45243665e-01, 1.89973545e-02],\n",
       "       [2.85658268e-01, 3.36713139e-01, 1.54447682e-01, 2.23180912e-01],\n",
       "       [0.00000000e+00, 9.52380952e-04, 9.95411255e-01, 3.63636364e-03],\n",
       "       [1.11111111e-03, 5.49783550e-03, 9.90957191e-01, 2.43386243e-03],\n",
       "       [6.29629630e-03, 1.51111111e-02, 9.75537037e-01, 3.05555556e-03],\n",
       "       [0.00000000e+00, 1.61904762e-03, 9.97492063e-01, 8.88888889e-04],\n",
       "       [3.38383838e-03, 5.84126984e-03, 9.84796056e-01, 5.97883598e-03],\n",
       "       [2.39668692e-01, 2.84691595e-01, 1.70746272e-01, 3.04893440e-01],\n",
       "       [0.00000000e+00, 5.72222222e-03, 9.93611111e-01, 6.66666667e-04],\n",
       "       [2.69317719e-02, 4.87377992e-02, 8.91960650e-01, 3.23697784e-02],\n",
       "       [7.17069042e-02, 6.16552216e-01, 2.12937340e-01, 9.88035391e-02],\n",
       "       [3.33333333e-03, 7.49494949e-03, 9.88338384e-01, 8.33333333e-04],\n",
       "       [2.00000000e-03, 1.36481481e-02, 9.84351852e-01, 0.00000000e+00],\n",
       "       [1.67107903e-01, 4.10109721e-01, 1.62224607e-01, 2.60557769e-01],\n",
       "       [2.42357389e-02, 2.55389484e-02, 9.33825842e-01, 1.63994709e-02],\n",
       "       [9.98677249e-03, 4.58855219e-02, 9.12064954e-01, 3.20627521e-02],\n",
       "       [6.55555556e-03, 7.62962963e-03, 9.75632275e-01, 1.01825397e-02],\n",
       "       [1.49339856e-01, 3.81575367e-01, 1.04739185e-01, 3.64345592e-01],\n",
       "       [2.22222222e-03, 1.95011655e-02, 9.69069153e-01, 9.20745921e-03],\n",
       "       [3.84066950e-01, 1.25440429e-01, 1.74053946e-01, 3.16438675e-01],\n",
       "       [3.06637807e-03, 1.67330447e-02, 9.69125541e-01, 1.10750361e-02],\n",
       "       [1.66666667e-03, 1.53333333e-02, 9.82047619e-01, 9.52380952e-04],\n",
       "       [1.78571429e-03, 3.79986772e-02, 9.55632275e-01, 4.58333333e-03],\n",
       "       [2.64376030e-01, 1.35391201e-01, 1.57617679e-01, 4.42615091e-01]])"
      ]
     },
     "execution_count": 126,
     "metadata": {},
     "output_type": "execute_result"
    }
   ],
   "source": [
    "rf_tree_opt.fit(X_train, y_train)\n",
    "rf_tree_opt.predict_proba(X_test)"
   ]
  },
  {
   "cell_type": "code",
   "execution_count": 127,
   "metadata": {},
   "outputs": [
    {
     "name": "stdout",
     "output_type": "stream",
     "text": [
      "Logarithmic Loss: 0.23443549564435415\n"
     ]
    }
   ],
   "source": [
    "print('Logarithmic Loss:', metrics.log_loss(y_test, rf_tree_opt.predict_proba(X_test)))"
   ]
  },
  {
   "cell_type": "markdown",
   "metadata": {},
   "source": [
    "### Random Search"
   ]
  },
  {
   "cell_type": "code",
   "execution_count": 128,
   "metadata": {},
   "outputs": [],
   "source": [
    "rf_random=RandomizedSearchCV(rf_tree,param_distributions=rf_params,n_iter=5,scoring='f1_micro',n_jobs=-1,cv=kf,verbose=3)"
   ]
  },
  {
   "cell_type": "code",
   "execution_count": 129,
   "metadata": {},
   "outputs": [
    {
     "name": "stdout",
     "output_type": "stream",
     "text": [
      "Fitting 5 folds for each of 5 candidates, totalling 25 fits\n"
     ]
    },
    {
     "name": "stderr",
     "output_type": "stream",
     "text": [
      "[Parallel(n_jobs=-1)]: Using backend LokyBackend with 4 concurrent workers.\n",
      "[Parallel(n_jobs=-1)]: Done  25 out of  25 | elapsed:    7.4s finished\n"
     ]
    },
    {
     "data": {
      "text/plain": [
       "RandomizedSearchCV(cv=KFold(n_splits=5, random_state=None, shuffle=False),\n",
       "                   error_score='raise-deprecating',\n",
       "                   estimator=RandomForestClassifier(bootstrap=True,\n",
       "                                                    class_weight=None,\n",
       "                                                    criterion='gini',\n",
       "                                                    max_depth=None,\n",
       "                                                    max_features='auto',\n",
       "                                                    max_leaf_nodes=None,\n",
       "                                                    min_impurity_decrease=0.0,\n",
       "                                                    min_impurity_split=None,\n",
       "                                                    min_samples_leaf=1,\n",
       "                                                    min_samples_split=2,\n",
       "                                                    min_weight_fraction...\n",
       "                                                    oob_score=False,\n",
       "                                                    random_state=None,\n",
       "                                                    verbose=0,\n",
       "                                                    warm_start=False),\n",
       "                   iid='warn', n_iter=5, n_jobs=-1,\n",
       "                   param_distributions={'max_depth': [10, 20, 30, 50, 70],\n",
       "                                        'min_samples_leaf': [4, 6, 8, 12, 15],\n",
       "                                        'min_samples_split': [2, 3, 4, 5, 6],\n",
       "                                        'n_estimators': [100, 150, 170, 200,\n",
       "                                                         300]},\n",
       "                   pre_dispatch='2*n_jobs', random_state=None, refit=True,\n",
       "                   return_train_score=False, scoring='f1_micro', verbose=3)"
      ]
     },
     "execution_count": 129,
     "metadata": {},
     "output_type": "execute_result"
    }
   ],
   "source": [
    "rf_random.fit(X_train, y_train)"
   ]
  },
  {
   "cell_type": "code",
   "execution_count": 130,
   "metadata": {},
   "outputs": [
    {
     "data": {
      "text/plain": [
       "(RandomForestClassifier(bootstrap=True, class_weight=None, criterion='gini',\n",
       "                        max_depth=30, max_features='auto', max_leaf_nodes=None,\n",
       "                        min_impurity_decrease=0.0, min_impurity_split=None,\n",
       "                        min_samples_leaf=4, min_samples_split=5,\n",
       "                        min_weight_fraction_leaf=0.0, n_estimators=150,\n",
       "                        n_jobs=None, oob_score=False, random_state=None,\n",
       "                        verbose=0, warm_start=False),\n",
       " {'n_estimators': 150,\n",
       "  'min_samples_split': 5,\n",
       "  'min_samples_leaf': 4,\n",
       "  'max_depth': 30})"
      ]
     },
     "execution_count": 130,
     "metadata": {},
     "output_type": "execute_result"
    }
   ],
   "source": [
    "rf_random.best_estimator_, rf_random.best_params_"
   ]
  },
  {
   "cell_type": "code",
   "execution_count": 131,
   "metadata": {},
   "outputs": [
    {
     "data": {
      "text/plain": [
       "0.2924258638663749"
      ]
     },
     "execution_count": 131,
     "metadata": {},
     "output_type": "execute_result"
    }
   ],
   "source": [
    "y_pred_cat = rf_random.predict_proba(X_test)\n",
    "log_loss(y_test, y_pred_cat)"
   ]
  },
  {
   "cell_type": "code",
   "execution_count": null,
   "metadata": {},
   "outputs": [],
   "source": []
  },
  {
   "cell_type": "code",
   "execution_count": null,
   "metadata": {},
   "outputs": [],
   "source": []
  },
  {
   "cell_type": "markdown",
   "metadata": {},
   "source": [
    "# XGBoost"
   ]
  },
  {
   "cell_type": "code",
   "execution_count": 40,
   "metadata": {},
   "outputs": [],
   "source": [
    "import os\n",
    "import gc\n",
    "import pickle\n",
    "import time\n",
    "import pandas as pd\n",
    "import numpy as np\n",
    "from xgboost import XGBRegressor\n",
    "from xgboost import XGBClassifier\n",
    "import xgboost as xgb\n",
    "import matplotlib.pylab as plt\n",
    "from matplotlib.pylab import rcParams\n",
    "rcParams['figure.figsize'] = 12, 4"
   ]
  },
  {
   "cell_type": "code",
   "execution_count": 41,
   "metadata": {},
   "outputs": [
    {
     "data": {
      "text/plain": [
       "XGBClassifier(base_score=0.5, booster='gbtree', colsample_bylevel=1,\n",
       "              colsample_bynode=1, colsample_bytree=0.4, eta=0.1, gamma=0,\n",
       "              learning_rate=0.1, max_delta_step=0, max_depth=10,\n",
       "              min_child_weight=0.5, missing=None, n_estimators=100, n_jobs=1,\n",
       "              nthread=None, objective='multi:softprob', random_state=0,\n",
       "              reg_alpha=0, reg_lambda=1, scale_pos_weight=1, seed=30,\n",
       "              silent=None, subsample=0.4, verbosity=1)"
      ]
     },
     "execution_count": 41,
     "metadata": {},
     "output_type": "execute_result"
    }
   ],
   "source": [
    "xgbmodel = XGBClassifier(\n",
    "    max_depth=10,\n",
    "    n_estimators=100,\n",
    "    min_child_weight=0.5, \n",
    "    colsample_bytree=0.4, \n",
    "    subsample=0.4, \n",
    "    eta=0.1,\n",
    "    seed=30)\n",
    "\n",
    "xgbmodel.fit(\n",
    "    X_train, \n",
    "    y_train, \n",
    "    eval_metric='mlogloss',\n",
    "    verbose=True)"
   ]
  },
  {
   "cell_type": "code",
   "execution_count": 42,
   "metadata": {},
   "outputs": [
    {
     "name": "stdout",
     "output_type": "stream",
     "text": [
      "Logarithmic Loss: 0.03338815379177431\n"
     ]
    }
   ],
   "source": [
    "print('Logarithmic Loss:', metrics.log_loss(y_test, xgbmodel.predict_proba(X_test)))"
   ]
  },
  {
   "cell_type": "markdown",
   "metadata": {},
   "source": [
    "## Optimization"
   ]
  },
  {
   "cell_type": "markdown",
   "metadata": {},
   "source": [
    "### Grid Search"
   ]
  },
  {
   "cell_type": "code",
   "execution_count": 52,
   "metadata": {},
   "outputs": [],
   "source": [
    "xgb_params = {'min_child_weight': [0.1, 0.5, 0.7, 0.9, 1], \n",
    "              'max_depth': [1, 10, 20, 30, 40],\n",
    "              'n_estimator': [100, 150, 170, 200, 300],\n",
    "              'seed': [10, 20, 30, 50, 70]}\n",
    "\n",
    "kf = KFold(n_splits=5)"
   ]
  },
  {
   "cell_type": "code",
   "execution_count": 53,
   "metadata": {},
   "outputs": [],
   "source": [
    "xgbmodel_test = XGBClassifier()"
   ]
  },
  {
   "cell_type": "code",
   "execution_count": 98,
   "metadata": {},
   "outputs": [],
   "source": [
    "grid_searcher_xgb = GridSearchCV(estimator=xgbmodel_test, param_grid=xgb_params, \n",
    "                             cv=kf, verbose=1, n_jobs=4)"
   ]
  },
  {
   "cell_type": "code",
   "execution_count": 99,
   "metadata": {},
   "outputs": [
    {
     "name": "stdout",
     "output_type": "stream",
     "text": [
      "Fitting 5 folds for each of 625 candidates, totalling 3125 fits\n"
     ]
    },
    {
     "name": "stderr",
     "output_type": "stream",
     "text": [
      "[Parallel(n_jobs=4)]: Using backend LokyBackend with 4 concurrent workers.\n",
      "[Parallel(n_jobs=4)]: Done  42 tasks      | elapsed:    5.3s\n",
      "[Parallel(n_jobs=4)]: Done 192 tasks      | elapsed:   15.5s\n",
      "[Parallel(n_jobs=4)]: Done 442 tasks      | elapsed:   32.1s\n",
      "[Parallel(n_jobs=4)]: Done 792 tasks      | elapsed:  1.0min\n",
      "[Parallel(n_jobs=4)]: Done 1242 tasks      | elapsed:  1.7min\n",
      "[Parallel(n_jobs=4)]: Done 1792 tasks      | elapsed:  2.6min\n",
      "[Parallel(n_jobs=4)]: Done 2442 tasks      | elapsed:  3.6min\n",
      "[Parallel(n_jobs=4)]: Done 3125 out of 3125 | elapsed:  4.7min finished\n"
     ]
    },
    {
     "data": {
      "text/plain": [
       "GridSearchCV(cv=KFold(n_splits=5, random_state=None, shuffle=False),\n",
       "             error_score='raise-deprecating',\n",
       "             estimator=XGBClassifier(base_score=0.5, booster='gbtree',\n",
       "                                     colsample_bylevel=1, colsample_bynode=1,\n",
       "                                     colsample_bytree=1, gamma=0,\n",
       "                                     learning_rate=0.1, max_delta_step=0,\n",
       "                                     max_depth=3, min_child_weight=1,\n",
       "                                     missing=None, n_estimators=100, n_jobs=1,\n",
       "                                     nthread=None, objective='b...,\n",
       "                                     random_state=0, reg_alpha=0, reg_lambda=1,\n",
       "                                     scale_pos_weight=1, seed=None, silent=None,\n",
       "                                     subsample=1, verbosity=1),\n",
       "             iid='warn', n_jobs=4,\n",
       "             param_grid={'max_depth': [1, 10, 20, 30, 40],\n",
       "                         'min_child_weight': [0.1, 0.5, 0.7, 0.9, 1],\n",
       "                         'n_estimator': [100, 150, 170, 200, 300],\n",
       "                         'seed': [10, 20, 30, 50, 70]},\n",
       "             pre_dispatch='2*n_jobs', refit=True, return_train_score=False,\n",
       "             scoring=None, verbose=1)"
      ]
     },
     "execution_count": 99,
     "metadata": {},
     "output_type": "execute_result"
    }
   ],
   "source": [
    "grid_searcher_xgb.fit(X_train, y_train)"
   ]
  },
  {
   "cell_type": "code",
   "execution_count": 100,
   "metadata": {},
   "outputs": [
    {
     "data": {
      "text/plain": [
       "({'max_depth': 1, 'min_child_weight': 0.1, 'n_estimator': 100, 'seed': 10},\n",
       " 1.0)"
      ]
     },
     "execution_count": 100,
     "metadata": {},
     "output_type": "execute_result"
    }
   ],
   "source": [
    "grid_searcher_xgb.best_params_, grid_searcher.best_score_"
   ]
  },
  {
   "cell_type": "code",
   "execution_count": 101,
   "metadata": {},
   "outputs": [],
   "source": [
    "xgbmodel_opt = XGBClassifier(\n",
    "    max_depth=1,\n",
    "    n_estimators=100,\n",
    "    min_child_weight=0.1, \n",
    "    colsample_bytree=0.4, \n",
    "    subsample=0.4, \n",
    "    eta=0.1,\n",
    "    seed=10)"
   ]
  },
  {
   "cell_type": "code",
   "execution_count": 102,
   "metadata": {},
   "outputs": [
    {
     "data": {
      "text/plain": [
       "XGBClassifier(base_score=0.5, booster='gbtree', colsample_bylevel=1,\n",
       "              colsample_bynode=1, colsample_bytree=0.4, eta=0.1, gamma=0,\n",
       "              learning_rate=0.1, max_delta_step=0, max_depth=1,\n",
       "              min_child_weight=0.1, missing=None, n_estimators=100, n_jobs=1,\n",
       "              nthread=None, objective='multi:softprob', random_state=0,\n",
       "              reg_alpha=0, reg_lambda=1, scale_pos_weight=1, seed=10,\n",
       "              silent=None, subsample=0.4, verbosity=1)"
      ]
     },
     "execution_count": 102,
     "metadata": {},
     "output_type": "execute_result"
    }
   ],
   "source": [
    "xgbmodel_opt.fit(X_train, y_train)"
   ]
  },
  {
   "cell_type": "code",
   "execution_count": 103,
   "metadata": {},
   "outputs": [
    {
     "data": {
      "text/plain": [
       "0.06993989018811743"
      ]
     },
     "execution_count": 103,
     "metadata": {},
     "output_type": "execute_result"
    }
   ],
   "source": [
    "log_loss(y_test, xgbmodel_opt.predict_proba(X_test))"
   ]
  },
  {
   "cell_type": "markdown",
   "metadata": {},
   "source": [
    "### Random search"
   ]
  },
  {
   "cell_type": "code",
   "execution_count": 58,
   "metadata": {},
   "outputs": [],
   "source": [
    "xgb_random=RandomizedSearchCV(xgbmodel_test,param_distributions=xgb_params,n_iter=5,scoring='f1_micro',n_jobs=-1,cv=kf,verbose=3)"
   ]
  },
  {
   "cell_type": "code",
   "execution_count": 59,
   "metadata": {},
   "outputs": [
    {
     "name": "stdout",
     "output_type": "stream",
     "text": [
      "Fitting 5 folds for each of 5 candidates, totalling 25 fits\n"
     ]
    },
    {
     "name": "stderr",
     "output_type": "stream",
     "text": [
      "[Parallel(n_jobs=-1)]: Using backend LokyBackend with 4 concurrent workers.\n",
      "[Parallel(n_jobs=-1)]: Done  25 out of  25 | elapsed:    4.0s finished\n"
     ]
    },
    {
     "data": {
      "text/plain": [
       "RandomizedSearchCV(cv=KFold(n_splits=5, random_state=None, shuffle=False),\n",
       "                   error_score='raise-deprecating',\n",
       "                   estimator=XGBClassifier(base_score=0.5, booster='gbtree',\n",
       "                                           colsample_bylevel=1,\n",
       "                                           colsample_bynode=1,\n",
       "                                           colsample_bytree=1, gamma=0,\n",
       "                                           learning_rate=0.1, max_delta_step=0,\n",
       "                                           max_depth=3, min_child_weight=1,\n",
       "                                           missing=None, n_estimators=100,\n",
       "                                           n_jobs=1, nthread=None,\n",
       "                                           object...\n",
       "                                           reg_lambda=1, scale_pos_weight=1,\n",
       "                                           seed=None, silent=None, subsample=1,\n",
       "                                           verbosity=1),\n",
       "                   iid='warn', n_iter=5, n_jobs=-1,\n",
       "                   param_distributions={'max_depth': [1, 10, 20, 30, 40],\n",
       "                                        'min_child_weight': [0.1, 0.5, 0.7, 0.9,\n",
       "                                                             1],\n",
       "                                        'n_estimator': [100, 150, 170, 200,\n",
       "                                                        300],\n",
       "                                        'seed': [10, 20, 30, 50, 70]},\n",
       "                   pre_dispatch='2*n_jobs', random_state=None, refit=True,\n",
       "                   return_train_score=False, scoring='f1_micro', verbose=3)"
      ]
     },
     "execution_count": 59,
     "metadata": {},
     "output_type": "execute_result"
    }
   ],
   "source": [
    "xgb_random.fit(X_train, y_train)"
   ]
  },
  {
   "cell_type": "code",
   "execution_count": 60,
   "metadata": {},
   "outputs": [
    {
     "data": {
      "text/plain": [
       "(XGBClassifier(base_score=0.5, booster='gbtree', colsample_bylevel=1,\n",
       "               colsample_bynode=1, colsample_bytree=1, gamma=0,\n",
       "               learning_rate=0.1, max_delta_step=0, max_depth=1,\n",
       "               min_child_weight=0.1, missing=None, n_estimator=170,\n",
       "               n_estimators=100, n_jobs=1, nthread=None,\n",
       "               objective='multi:softprob', random_state=0, reg_alpha=0,\n",
       "               reg_lambda=1, scale_pos_weight=1, seed=10, silent=None,\n",
       "               subsample=1, verbosity=1),\n",
       " {'seed': 10, 'n_estimator': 170, 'min_child_weight': 0.1, 'max_depth': 1})"
      ]
     },
     "execution_count": 60,
     "metadata": {},
     "output_type": "execute_result"
    }
   ],
   "source": [
    "xgb_random.best_estimator_, xgb_random.best_params_"
   ]
  },
  {
   "cell_type": "code",
   "execution_count": 61,
   "metadata": {},
   "outputs": [
    {
     "data": {
      "text/plain": [
       "0.005057096190709811"
      ]
     },
     "execution_count": 61,
     "metadata": {},
     "output_type": "execute_result"
    }
   ],
   "source": [
    "y_pred_cat = xgb_random.predict_proba(X_test)\n",
    "log_loss(y_test, y_pred_cat)"
   ]
  },
  {
   "cell_type": "code",
   "execution_count": null,
   "metadata": {},
   "outputs": [],
   "source": []
  },
  {
   "cell_type": "code",
   "execution_count": null,
   "metadata": {},
   "outputs": [],
   "source": []
  },
  {
   "cell_type": "code",
   "execution_count": null,
   "metadata": {},
   "outputs": [],
   "source": []
  },
  {
   "cell_type": "code",
   "execution_count": null,
   "metadata": {},
   "outputs": [],
   "source": []
  },
  {
   "cell_type": "markdown",
   "metadata": {},
   "source": [
    "# LGBM Model"
   ]
  },
  {
   "cell_type": "code",
   "execution_count": 62,
   "metadata": {},
   "outputs": [
    {
     "name": "stderr",
     "output_type": "stream",
     "text": [
      "/Users/amihailovs/opt/anaconda3/lib/python3.7/site-packages/lightgbm/__init__.py:48: UserWarning: Starting from version 2.2.1, the library file in distribution wheels for macOS is built by the Apple Clang (Xcode_8.3.3) compiler.\n",
      "This means that in case of installing LightGBM from PyPI via the ``pip install lightgbm`` command, you don't need to install the gcc compiler anymore.\n",
      "Instead of that, you need to install the OpenMP library, which is required for running LightGBM on the system with the Apple Clang compiler.\n",
      "You can install the OpenMP library by the following command: ``brew install libomp``.\n",
      "  \"You can install the OpenMP library by the following command: ``brew install libomp``.\", UserWarning)\n"
     ]
    }
   ],
   "source": [
    "import numpy as np\n",
    "import pandas as pd\n",
    "%matplotlib inline\n",
    "import matplotlib.pyplot as plt\n",
    "from sklearn.model_selection import train_test_split, GridSearchCV\n",
    "from sklearn.metrics import accuracy_score, log_loss, multilabel_confusion_matrix, f1_score, average_precision_score\n",
    "from sklearn.pipeline import Pipeline\n",
    "from sklearn.preprocessing import StandardScaler\n",
    "from sklearn.linear_model import LogisticRegression\n",
    "from sklearn.ensemble import RandomForestClassifier\n",
    "from lightgbm import LGBMClassifier\n",
    "from sklearn.model_selection import RandomizedSearchCV, GridSearchCV, KFold\n",
    "from catboost import CatBoostRegressor, CatBoostClassifier"
   ]
  },
  {
   "cell_type": "code",
   "execution_count": 63,
   "metadata": {},
   "outputs": [],
   "source": [
    "lgb_clf = LGBMClassifier(random_state=17, max_depth=-1, \n",
    "                          num_leaves=63, n_estimators=300,\n",
    "                          n_jobs=1)"
   ]
  },
  {
   "cell_type": "code",
   "execution_count": 64,
   "metadata": {},
   "outputs": [
    {
     "data": {
      "text/plain": [
       "LGBMClassifier(boosting_type='gbdt', class_weight=None, colsample_bytree=1.0,\n",
       "               importance_type='split', learning_rate=0.1, max_depth=-1,\n",
       "               min_child_samples=20, min_child_weight=0.001, min_split_gain=0.0,\n",
       "               n_estimators=300, n_jobs=1, num_leaves=63, objective=None,\n",
       "               random_state=17, reg_alpha=0.0, reg_lambda=0.0, silent=True,\n",
       "               subsample=1.0, subsample_for_bin=200000, subsample_freq=0)"
      ]
     },
     "execution_count": 64,
     "metadata": {},
     "output_type": "execute_result"
    }
   ],
   "source": [
    "lgb_clf.fit(X_train, y_train)"
   ]
  },
  {
   "cell_type": "code",
   "execution_count": 65,
   "metadata": {},
   "outputs": [
    {
     "data": {
      "text/plain": [
       "3.963372245652866e-06"
      ]
     },
     "execution_count": 65,
     "metadata": {},
     "output_type": "execute_result"
    }
   ],
   "source": [
    "log_loss(y_test, lgb_clf.predict_proba(X_test))"
   ]
  },
  {
   "cell_type": "markdown",
   "metadata": {},
   "source": [
    "## Optimization"
   ]
  },
  {
   "cell_type": "markdown",
   "metadata": {},
   "source": [
    "### Grid Search"
   ]
  },
  {
   "cell_type": "code",
   "execution_count": 66,
   "metadata": {},
   "outputs": [],
   "source": [
    "params = {'num_leaves': [25, 30, 35, 70, 100], \n",
    "              'max_depth': [-1, 10, 20, 30, 40],\n",
    "              'n_estimator': [100, 150, 170, 200, 300]}\n",
    "\n",
    "kf = KFold(n_splits=5)"
   ]
  },
  {
   "cell_type": "code",
   "execution_count": 67,
   "metadata": {},
   "outputs": [],
   "source": [
    "grid_searcher = GridSearchCV(estimator=lgb_clf, param_grid=params, \n",
    "                             cv=kf, verbose=1, n_jobs=4)"
   ]
  },
  {
   "cell_type": "code",
   "execution_count": 68,
   "metadata": {},
   "outputs": [
    {
     "name": "stdout",
     "output_type": "stream",
     "text": [
      "Fitting 5 folds for each of 125 candidates, totalling 625 fits\n"
     ]
    },
    {
     "name": "stderr",
     "output_type": "stream",
     "text": [
      "[Parallel(n_jobs=4)]: Using backend LokyBackend with 4 concurrent workers.\n",
      "[Parallel(n_jobs=4)]: Done  42 tasks      | elapsed:    3.5s\n",
      "[Parallel(n_jobs=4)]: Done 192 tasks      | elapsed:   16.4s\n",
      "[Parallel(n_jobs=4)]: Done 442 tasks      | elapsed:   37.1s\n",
      "[Parallel(n_jobs=4)]: Done 625 out of 625 | elapsed:   58.2s finished\n"
     ]
    },
    {
     "data": {
      "text/plain": [
       "GridSearchCV(cv=KFold(n_splits=5, random_state=None, shuffle=False),\n",
       "             error_score='raise-deprecating',\n",
       "             estimator=LGBMClassifier(boosting_type='gbdt', class_weight=None,\n",
       "                                      colsample_bytree=1.0,\n",
       "                                      importance_type='split',\n",
       "                                      learning_rate=0.1, max_depth=-1,\n",
       "                                      min_child_samples=20,\n",
       "                                      min_child_weight=0.001,\n",
       "                                      min_split_gain=0.0, n_estimators=300,\n",
       "                                      n_jobs=1, num_leaves=63, objective=None,\n",
       "                                      random_state=17, reg_alpha=0.0,\n",
       "                                      reg_lambda=0.0, silent=True,\n",
       "                                      subsample=1.0, subsample_for_bin=200000,\n",
       "                                      subsample_freq=0),\n",
       "             iid='warn', n_jobs=4,\n",
       "             param_grid={'max_depth': [-1, 10, 20, 30, 40],\n",
       "                         'n_estimator': [100, 150, 170, 200, 300],\n",
       "                         'num_leaves': [25, 30, 35, 70, 100]},\n",
       "             pre_dispatch='2*n_jobs', refit=True, return_train_score=False,\n",
       "             scoring=None, verbose=1)"
      ]
     },
     "execution_count": 68,
     "metadata": {},
     "output_type": "execute_result"
    }
   ],
   "source": [
    "grid_searcher.fit(X_train, y_train)"
   ]
  },
  {
   "cell_type": "code",
   "execution_count": 69,
   "metadata": {},
   "outputs": [
    {
     "data": {
      "text/plain": [
       "({'max_depth': -1, 'n_estimator': 100, 'num_leaves': 25}, 0.9834862385321101)"
      ]
     },
     "execution_count": 69,
     "metadata": {},
     "output_type": "execute_result"
    }
   ],
   "source": [
    "grid_searcher.best_params_, grid_searcher.best_score_"
   ]
  },
  {
   "cell_type": "code",
   "execution_count": 70,
   "metadata": {},
   "outputs": [],
   "source": [
    "lgb_clf_opt = LGBMClassifier(random_state=17, max_depth=-1, \n",
    "                          num_leaves=25, n_estimators=100,\n",
    "                          n_jobs=1)"
   ]
  },
  {
   "cell_type": "code",
   "execution_count": 71,
   "metadata": {},
   "outputs": [
    {
     "data": {
      "text/plain": [
       "LGBMClassifier(boosting_type='gbdt', class_weight=None, colsample_bytree=1.0,\n",
       "               importance_type='split', learning_rate=0.1, max_depth=-1,\n",
       "               min_child_samples=20, min_child_weight=0.001, min_split_gain=0.0,\n",
       "               n_estimators=100, n_jobs=1, num_leaves=25, objective=None,\n",
       "               random_state=17, reg_alpha=0.0, reg_lambda=0.0, silent=True,\n",
       "               subsample=1.0, subsample_for_bin=200000, subsample_freq=0)"
      ]
     },
     "execution_count": 71,
     "metadata": {},
     "output_type": "execute_result"
    }
   ],
   "source": [
    "lgb_clf_opt.fit(X_train, y_train)"
   ]
  },
  {
   "cell_type": "code",
   "execution_count": 72,
   "metadata": {},
   "outputs": [
    {
     "data": {
      "text/plain": [
       "1.989696040048749e-05"
      ]
     },
     "execution_count": 72,
     "metadata": {},
     "output_type": "execute_result"
    }
   ],
   "source": [
    "log_loss(y_test, lgb_clf_opt.predict_proba(X_test))"
   ]
  },
  {
   "cell_type": "markdown",
   "metadata": {},
   "source": [
    "### Random Search"
   ]
  },
  {
   "cell_type": "code",
   "execution_count": 73,
   "metadata": {},
   "outputs": [],
   "source": [
    "lgbm = LGBMClassifier()"
   ]
  },
  {
   "cell_type": "code",
   "execution_count": 74,
   "metadata": {},
   "outputs": [],
   "source": [
    "lgbm_random=RandomizedSearchCV(lgbm,param_distributions=params,n_iter=5,scoring='f1_micro',n_jobs=-1,cv=kf,verbose=3)"
   ]
  },
  {
   "cell_type": "code",
   "execution_count": 75,
   "metadata": {},
   "outputs": [
    {
     "name": "stdout",
     "output_type": "stream",
     "text": [
      "Fitting 5 folds for each of 5 candidates, totalling 25 fits\n"
     ]
    },
    {
     "name": "stderr",
     "output_type": "stream",
     "text": [
      "[Parallel(n_jobs=-1)]: Using backend LokyBackend with 4 concurrent workers.\n",
      "[Parallel(n_jobs=-1)]: Done  18 out of  25 | elapsed:    1.7s remaining:    0.7s\n",
      "[Parallel(n_jobs=-1)]: Done  25 out of  25 | elapsed:    2.2s finished\n"
     ]
    },
    {
     "data": {
      "text/plain": [
       "RandomizedSearchCV(cv=KFold(n_splits=5, random_state=None, shuffle=False),\n",
       "                   error_score='raise-deprecating',\n",
       "                   estimator=LGBMClassifier(boosting_type='gbdt',\n",
       "                                            class_weight=None,\n",
       "                                            colsample_bytree=1.0,\n",
       "                                            importance_type='split',\n",
       "                                            learning_rate=0.1, max_depth=-1,\n",
       "                                            min_child_samples=20,\n",
       "                                            min_child_weight=0.001,\n",
       "                                            min_split_gain=0.0,\n",
       "                                            n_estimators=100, n_jobs=-1,\n",
       "                                            num_leaves=31, ob...\n",
       "                                            random_state=None, reg_alpha=0.0,\n",
       "                                            reg_lambda=0.0, silent=True,\n",
       "                                            subsample=1.0,\n",
       "                                            subsample_for_bin=200000,\n",
       "                                            subsample_freq=0),\n",
       "                   iid='warn', n_iter=5, n_jobs=-1,\n",
       "                   param_distributions={'max_depth': [-1, 10, 20, 30, 40],\n",
       "                                        'n_estimator': [100, 150, 170, 200,\n",
       "                                                        300],\n",
       "                                        'num_leaves': [25, 30, 35, 70, 100]},\n",
       "                   pre_dispatch='2*n_jobs', random_state=None, refit=True,\n",
       "                   return_train_score=False, scoring='f1_micro', verbose=3)"
      ]
     },
     "execution_count": 75,
     "metadata": {},
     "output_type": "execute_result"
    }
   ],
   "source": [
    "lgbm_random.fit(X_train, y_train)"
   ]
  },
  {
   "cell_type": "code",
   "execution_count": 76,
   "metadata": {},
   "outputs": [
    {
     "data": {
      "text/plain": [
       "(LGBMClassifier(boosting_type='gbdt', class_weight=None, colsample_bytree=1.0,\n",
       "                importance_type='split', learning_rate=0.1, max_depth=20,\n",
       "                min_child_samples=20, min_child_weight=0.001, min_split_gain=0.0,\n",
       "                n_estimator=150, n_estimators=100, n_jobs=-1, num_leaves=100,\n",
       "                objective=None, random_state=None, reg_alpha=0.0, reg_lambda=0.0,\n",
       "                silent=True, subsample=1.0, subsample_for_bin=200000,\n",
       "                subsample_freq=0),\n",
       " {'num_leaves': 100, 'n_estimator': 150, 'max_depth': 20})"
      ]
     },
     "execution_count": 76,
     "metadata": {},
     "output_type": "execute_result"
    }
   ],
   "source": [
    "lgbm_random.best_estimator_, lgbm_random.best_params_"
   ]
  },
  {
   "cell_type": "code",
   "execution_count": 77,
   "metadata": {},
   "outputs": [
    {
     "data": {
      "text/plain": [
       "1.989696040048749e-05"
      ]
     },
     "execution_count": 77,
     "metadata": {},
     "output_type": "execute_result"
    }
   ],
   "source": [
    "y_pred_cat = lgbm_random.predict_proba(X_test)\n",
    "log_loss(y_test, y_pred_cat)"
   ]
  },
  {
   "cell_type": "code",
   "execution_count": null,
   "metadata": {},
   "outputs": [],
   "source": []
  },
  {
   "cell_type": "code",
   "execution_count": null,
   "metadata": {},
   "outputs": [],
   "source": []
  },
  {
   "cell_type": "markdown",
   "metadata": {},
   "source": [
    "# CatBoost"
   ]
  },
  {
   "cell_type": "code",
   "execution_count": 78,
   "metadata": {},
   "outputs": [],
   "source": [
    "cb_model = CatBoostClassifier(iterations=100,\n",
    "                             learning_rate=0.05,\n",
    "                             depth=10,\n",
    "                             eval_metric='MultiClass',\n",
    "                             random_seed = 42,\n",
    "                             bagging_temperature = 0.2,\n",
    "                             od_type='Iter',\n",
    "                             metric_period = 50,\n",
    "                             od_wait=20)"
   ]
  },
  {
   "cell_type": "code",
   "execution_count": 79,
   "metadata": {},
   "outputs": [
    {
     "name": "stderr",
     "output_type": "stream",
     "text": [
      "Warning: Overfitting detector is active, thus evaluation metric is calculated on every iteration. 'metric_period' is ignored for evaluation metric.\n"
     ]
    },
    {
     "name": "stdout",
     "output_type": "stream",
     "text": [
      "0:\tlearn: 1.2773078\ttest: 1.2831700\tbest: 1.2831700 (0)\ttotal: 94.2ms\tremaining: 9.32s\n",
      "50:\tlearn: 0.1480326\ttest: 0.1756181\tbest: 0.1756181 (50)\ttotal: 4.43s\tremaining: 4.26s\n",
      "99:\tlearn: 0.0428343\ttest: 0.0580716\tbest: 0.0580716 (99)\ttotal: 6.56s\tremaining: 0us\n",
      "\n",
      "bestTest = 0.05807159405\n",
      "bestIteration = 99\n",
      "\n"
     ]
    },
    {
     "data": {
      "text/plain": [
       "<catboost.core.CatBoostClassifier at 0x7fe1c7874290>"
      ]
     },
     "execution_count": 79,
     "metadata": {},
     "output_type": "execute_result"
    }
   ],
   "source": [
    "cb_model.fit(X_train, y_train,\n",
    "             eval_set=(X_test, y_test),\n",
    "             use_best_model=True,\n",
    "             verbose=50)"
   ]
  },
  {
   "cell_type": "code",
   "execution_count": 80,
   "metadata": {},
   "outputs": [],
   "source": [
    "pred_test_cat = cb_model.predict_proba(X_test)"
   ]
  },
  {
   "cell_type": "code",
   "execution_count": 81,
   "metadata": {},
   "outputs": [
    {
     "data": {
      "text/plain": [
       "0.05807159404553854"
      ]
     },
     "execution_count": 81,
     "metadata": {},
     "output_type": "execute_result"
    }
   ],
   "source": [
    "log_loss(y_test, pred_test_cat)"
   ]
  },
  {
   "cell_type": "markdown",
   "metadata": {},
   "source": [
    "## Grid Search"
   ]
  },
  {
   "cell_type": "code",
   "execution_count": 82,
   "metadata": {},
   "outputs": [],
   "source": [
    "params={\n",
    "    'random_seed' : [10, 15, 20, 30, 40, 50, 60],\n",
    "    'bagging_temperature' : [0.1, 0.2, 0.3, 0.5, 0.7, 0.9],\n",
    "    'metric_period' : [20, 30, 40, 50, 70, 90],\n",
    "    'od_wait' : [5, 10, 20, 25, 30, 40]\n",
    "}\n",
    "\n",
    "kf = KFold(n_splits=5)"
   ]
  },
  {
   "cell_type": "code",
   "execution_count": 83,
   "metadata": {},
   "outputs": [],
   "source": [
    "catboost = CatBoostClassifier()"
   ]
  },
  {
   "cell_type": "code",
   "execution_count": 84,
   "metadata": {},
   "outputs": [],
   "source": [
    "grid_searcher = GridSearchCV(estimator=catboost, param_grid=params, \n",
    "                             cv=kf, verbose=1, n_jobs=4)"
   ]
  },
  {
   "cell_type": "code",
   "execution_count": 86,
   "metadata": {},
   "outputs": [
    {
     "name": "stdout",
     "output_type": "stream",
     "text": [
      "Fitting 5 folds for each of 1512 candidates, totalling 7560 fits\n"
     ]
    },
    {
     "name": "stderr",
     "output_type": "stream",
     "text": [
      "[Parallel(n_jobs=4)]: Using backend LokyBackend with 4 concurrent workers.\n",
      "[Parallel(n_jobs=4)]: Done  42 tasks      | elapsed:  1.8min\n",
      "[Parallel(n_jobs=4)]: Done 192 tasks      | elapsed:  7.4min\n",
      "[Parallel(n_jobs=4)]: Done 442 tasks      | elapsed: 17.0min\n",
      "[Parallel(n_jobs=4)]: Done 792 tasks      | elapsed: 30.4min\n",
      "[Parallel(n_jobs=4)]: Done 1242 tasks      | elapsed: 47.4min\n",
      "[Parallel(n_jobs=4)]: Done 1792 tasks      | elapsed: 68.3min\n",
      "[Parallel(n_jobs=4)]: Done 2442 tasks      | elapsed: 101.0min\n",
      "[Parallel(n_jobs=4)]: Done 3192 tasks      | elapsed: 150.3min\n",
      "[Parallel(n_jobs=4)]: Done 4042 tasks      | elapsed: 185.2min\n",
      "[Parallel(n_jobs=4)]: Done 4992 tasks      | elapsed: 220.9min\n",
      "[Parallel(n_jobs=4)]: Done 6042 tasks      | elapsed: 262.1min\n",
      "[Parallel(n_jobs=4)]: Done 7192 tasks      | elapsed: 306.1min\n",
      "[Parallel(n_jobs=4)]: Done 7560 out of 7560 | elapsed: 318.7min finished\n"
     ]
    },
    {
     "name": "stdout",
     "output_type": "stream",
     "text": [
      "Learning rate set to 0.076715\n",
      "0:\tlearn: 1.2302152\ttotal: 6.77ms\tremaining: 6.76s\n",
      "20:\tlearn: 0.2453274\ttotal: 77.2ms\tremaining: 3.6s\n",
      "40:\tlearn: 0.0753633\ttotal: 131ms\tremaining: 3.06s\n",
      "60:\tlearn: 0.0336588\ttotal: 177ms\tremaining: 2.73s\n",
      "80:\tlearn: 0.0178124\ttotal: 232ms\tremaining: 2.64s\n",
      "100:\tlearn: 0.0120536\ttotal: 295ms\tremaining: 2.63s\n",
      "120:\tlearn: 0.0086573\ttotal: 345ms\tremaining: 2.51s\n",
      "140:\tlearn: 0.0067326\ttotal: 398ms\tremaining: 2.43s\n",
      "160:\tlearn: 0.0056469\ttotal: 467ms\tremaining: 2.43s\n",
      "180:\tlearn: 0.0047766\ttotal: 525ms\tremaining: 2.38s\n",
      "200:\tlearn: 0.0041502\ttotal: 577ms\tremaining: 2.29s\n",
      "220:\tlearn: 0.0036648\ttotal: 633ms\tremaining: 2.23s\n",
      "240:\tlearn: 0.0032710\ttotal: 695ms\tremaining: 2.19s\n",
      "260:\tlearn: 0.0029527\ttotal: 749ms\tremaining: 2.12s\n",
      "280:\tlearn: 0.0026902\ttotal: 800ms\tremaining: 2.05s\n",
      "300:\tlearn: 0.0024717\ttotal: 851ms\tremaining: 1.98s\n",
      "320:\tlearn: 0.0022858\ttotal: 926ms\tremaining: 1.96s\n",
      "340:\tlearn: 0.0021258\ttotal: 978ms\tremaining: 1.89s\n",
      "360:\tlearn: 0.0019871\ttotal: 1.03s\tremaining: 1.82s\n",
      "380:\tlearn: 0.0018657\ttotal: 1.08s\tremaining: 1.75s\n",
      "400:\tlearn: 0.0017586\ttotal: 1.15s\tremaining: 1.72s\n",
      "420:\tlearn: 0.0016634\ttotal: 1.21s\tremaining: 1.67s\n",
      "440:\tlearn: 0.0015781\ttotal: 1.26s\tremaining: 1.6s\n",
      "460:\tlearn: 0.0015014\ttotal: 1.31s\tremaining: 1.54s\n",
      "480:\tlearn: 0.0014319\ttotal: 1.38s\tremaining: 1.49s\n",
      "500:\tlearn: 0.0013687\ttotal: 1.44s\tremaining: 1.43s\n",
      "520:\tlearn: 0.0013110\ttotal: 1.49s\tremaining: 1.37s\n",
      "540:\tlearn: 0.0012580\ttotal: 1.54s\tremaining: 1.3s\n",
      "560:\tlearn: 0.0012092\ttotal: 1.59s\tremaining: 1.25s\n",
      "580:\tlearn: 0.0011642\ttotal: 1.66s\tremaining: 1.19s\n",
      "600:\tlearn: 0.0011225\ttotal: 1.71s\tremaining: 1.13s\n",
      "620:\tlearn: 0.0010837\ttotal: 1.77s\tremaining: 1.08s\n",
      "640:\tlearn: 0.0010476\ttotal: 1.83s\tremaining: 1.03s\n",
      "660:\tlearn: 0.0010138\ttotal: 1.89s\tremaining: 969ms\n",
      "680:\tlearn: 0.0009822\ttotal: 1.94s\tremaining: 909ms\n",
      "700:\tlearn: 0.0009526\ttotal: 1.99s\tremaining: 850ms\n",
      "720:\tlearn: 0.0009247\ttotal: 2.05s\tremaining: 794ms\n",
      "740:\tlearn: 0.0008985\ttotal: 2.11s\tremaining: 737ms\n",
      "760:\tlearn: 0.0008737\ttotal: 2.16s\tremaining: 679ms\n",
      "780:\tlearn: 0.0008503\ttotal: 2.21s\tremaining: 620ms\n",
      "800:\tlearn: 0.0008281\ttotal: 2.27s\tremaining: 565ms\n",
      "820:\tlearn: 0.0008071\ttotal: 2.33s\tremaining: 508ms\n",
      "840:\tlearn: 0.0007872\ttotal: 2.38s\tremaining: 450ms\n",
      "860:\tlearn: 0.0007682\ttotal: 2.43s\tremaining: 393ms\n",
      "880:\tlearn: 0.0007501\ttotal: 2.49s\tremaining: 337ms\n",
      "900:\tlearn: 0.0007329\ttotal: 2.56s\tremaining: 281ms\n",
      "920:\tlearn: 0.0007165\ttotal: 2.61s\tremaining: 224ms\n",
      "940:\tlearn: 0.0007008\ttotal: 2.66s\tremaining: 167ms\n",
      "960:\tlearn: 0.0006858\ttotal: 2.72s\tremaining: 110ms\n",
      "980:\tlearn: 0.0006714\ttotal: 2.78s\tremaining: 53.8ms\n",
      "999:\tlearn: 0.0006583\ttotal: 2.83s\tremaining: 0us\n"
     ]
    },
    {
     "data": {
      "text/plain": [
       "GridSearchCV(cv=KFold(n_splits=5, random_state=None, shuffle=False),\n",
       "             error_score='raise-deprecating',\n",
       "             estimator=<catboost.core.CatBoostClassifier object at 0x7fe1c79cb210>,\n",
       "             iid='warn', n_jobs=4,\n",
       "             param_grid={'bagging_temperature': [0.1, 0.2, 0.3, 0.5, 0.7, 0.9],\n",
       "                         'metric_period': [20, 30, 40, 50, 70, 90],\n",
       "                         'od_wait': [5, 10, 20, 25, 30, 40],\n",
       "                         'random_seed': [10, 15, 20, 30, 40, 50, 60]},\n",
       "             pre_dispatch='2*n_jobs', refit=True, return_train_score=False,\n",
       "             scoring=None, verbose=1)"
      ]
     },
     "execution_count": 86,
     "metadata": {},
     "output_type": "execute_result"
    }
   ],
   "source": [
    "grid_searcher.fit(X_train, y_train)"
   ]
  },
  {
   "cell_type": "code",
   "execution_count": 87,
   "metadata": {},
   "outputs": [
    {
     "data": {
      "text/plain": [
       "({'bagging_temperature': 0.1,\n",
       "  'metric_period': 20,\n",
       "  'od_wait': 5,\n",
       "  'random_seed': 10},\n",
       " 1.0)"
      ]
     },
     "execution_count": 87,
     "metadata": {},
     "output_type": "execute_result"
    }
   ],
   "source": [
    "grid_searcher.best_params_, grid_searcher.best_score_"
   ]
  },
  {
   "cell_type": "code",
   "execution_count": 89,
   "metadata": {},
   "outputs": [],
   "source": [
    "cb_model_opt = CatBoostClassifier(iterations=100,\n",
    "                             learning_rate=0.05,\n",
    "                             depth=10,\n",
    "                             eval_metric='MultiClass',\n",
    "                             random_seed = 10,\n",
    "                             bagging_temperature = 0.1,\n",
    "                             od_type='Iter',\n",
    "                             metric_period = 20,\n",
    "                             od_wait=5)"
   ]
  },
  {
   "cell_type": "code",
   "execution_count": 105,
   "metadata": {},
   "outputs": [
    {
     "name": "stderr",
     "output_type": "stream",
     "text": [
      "Warning: Overfitting detector is active, thus evaluation metric is calculated on every iteration. 'metric_period' is ignored for evaluation metric.\n"
     ]
    },
    {
     "name": "stdout",
     "output_type": "stream",
     "text": [
      "0:\tlearn: 1.3108439\ttest: 1.3137544\tbest: 1.3137544 (0)\ttotal: 101ms\tremaining: 10s\n",
      "20:\tlearn: 0.5221506\ttest: 0.5703241\tbest: 0.5703241 (20)\ttotal: 1.63s\tremaining: 6.12s\n",
      "40:\tlearn: 0.2404346\ttest: 0.2845909\tbest: 0.2845909 (40)\ttotal: 2.75s\tremaining: 3.96s\n",
      "60:\tlearn: 0.1273094\ttest: 0.1622199\tbest: 0.1622199 (60)\ttotal: 3.54s\tremaining: 2.27s\n",
      "80:\tlearn: 0.0786040\ttest: 0.1074981\tbest: 0.1074981 (80)\ttotal: 4.52s\tremaining: 1.06s\n",
      "99:\tlearn: 0.0533090\ttest: 0.0773945\tbest: 0.0773945 (99)\ttotal: 5.36s\tremaining: 0us\n",
      "\n",
      "bestTest = 0.07739453791\n",
      "bestIteration = 99\n",
      "\n"
     ]
    },
    {
     "data": {
      "text/plain": [
       "<catboost.core.CatBoostClassifier at 0x7fe1c7974b90>"
      ]
     },
     "execution_count": 105,
     "metadata": {},
     "output_type": "execute_result"
    }
   ],
   "source": [
    "cb_model_opt.fit(X_train, y_train,\n",
    "             eval_set=(X_test, y_test),\n",
    "             use_best_model=True,\n",
    "             verbose=20)"
   ]
  },
  {
   "cell_type": "code",
   "execution_count": null,
   "metadata": {},
   "outputs": [],
   "source": [
    "#lgb_clf_opt.fit(X_train, y_train)"
   ]
  },
  {
   "cell_type": "code",
   "execution_count": 106,
   "metadata": {},
   "outputs": [
    {
     "data": {
      "text/plain": [
       "0.07739453790663768"
      ]
     },
     "execution_count": 106,
     "metadata": {},
     "output_type": "execute_result"
    }
   ],
   "source": [
    "log_loss(y_test, cb_model_opt.predict_proba(X_test))"
   ]
  },
  {
   "cell_type": "markdown",
   "metadata": {},
   "source": [
    "## Random Search"
   ]
  },
  {
   "cell_type": "code",
   "execution_count": 91,
   "metadata": {},
   "outputs": [],
   "source": [
    "random=RandomizedSearchCV(catboost,param_distributions=params,n_iter=5,scoring='f1_micro',n_jobs=-1,cv=kf,verbose=3)"
   ]
  },
  {
   "cell_type": "code",
   "execution_count": 92,
   "metadata": {},
   "outputs": [
    {
     "name": "stdout",
     "output_type": "stream",
     "text": [
      "Fitting 5 folds for each of 5 candidates, totalling 25 fits\n"
     ]
    },
    {
     "name": "stderr",
     "output_type": "stream",
     "text": [
      "[Parallel(n_jobs=-1)]: Using backend LokyBackend with 4 concurrent workers.\n",
      "[Parallel(n_jobs=-1)]: Done  25 out of  25 | elapsed:  1.0min finished\n"
     ]
    },
    {
     "name": "stdout",
     "output_type": "stream",
     "text": [
      "Learning rate set to 0.076715\n",
      "0:\tlearn: 1.2146299\ttotal: 5.2ms\tremaining: 5.2s\n",
      "70:\tlearn: 0.0240744\ttotal: 203ms\tremaining: 2.66s\n",
      "140:\tlearn: 0.0066997\ttotal: 391ms\tremaining: 2.38s\n",
      "210:\tlearn: 0.0037046\ttotal: 590ms\tremaining: 2.21s\n",
      "280:\tlearn: 0.0025635\ttotal: 784ms\tremaining: 2.01s\n",
      "350:\tlearn: 0.0019532\ttotal: 985ms\tremaining: 1.82s\n",
      "420:\tlearn: 0.0015854\ttotal: 1.18s\tremaining: 1.62s\n",
      "490:\tlearn: 0.0013448\ttotal: 1.38s\tremaining: 1.43s\n",
      "560:\tlearn: 0.0011656\ttotal: 1.58s\tremaining: 1.23s\n",
      "630:\tlearn: 0.0010322\ttotal: 1.77s\tremaining: 1.04s\n",
      "700:\tlearn: 0.0009229\ttotal: 1.97s\tremaining: 840ms\n",
      "770:\tlearn: 0.0008342\ttotal: 2.17s\tremaining: 644ms\n",
      "840:\tlearn: 0.0007601\ttotal: 2.36s\tremaining: 447ms\n",
      "910:\tlearn: 0.0006974\ttotal: 2.56s\tremaining: 250ms\n",
      "980:\tlearn: 0.0006447\ttotal: 2.75s\tremaining: 53.3ms\n",
      "999:\tlearn: 0.0006318\ttotal: 2.81s\tremaining: 0us\n"
     ]
    },
    {
     "data": {
      "text/plain": [
       "RandomizedSearchCV(cv=KFold(n_splits=5, random_state=None, shuffle=False),\n",
       "                   error_score='raise-deprecating',\n",
       "                   estimator=<catboost.core.CatBoostClassifier object at 0x7fe1c79cb210>,\n",
       "                   iid='warn', n_iter=5, n_jobs=-1,\n",
       "                   param_distributions={'bagging_temperature': [0.1, 0.2, 0.3,\n",
       "                                                                0.5, 0.7, 0.9],\n",
       "                                        'metric_period': [20, 30, 40, 50, 70,\n",
       "                                                          90],\n",
       "                                        'od_wait': [5, 10, 20, 25, 30, 40],\n",
       "                                        'random_seed': [10, 15, 20, 30, 40, 50,\n",
       "                                                        60]},\n",
       "                   pre_dispatch='2*n_jobs', random_state=None, refit=True,\n",
       "                   return_train_score=False, scoring='f1_micro', verbose=3)"
      ]
     },
     "execution_count": 92,
     "metadata": {},
     "output_type": "execute_result"
    }
   ],
   "source": [
    "random.fit(X_train, y_train)"
   ]
  },
  {
   "cell_type": "code",
   "execution_count": 93,
   "metadata": {},
   "outputs": [
    {
     "data": {
      "text/plain": [
       "<catboost.core.CatBoostClassifier at 0x7fe1c79749d0>"
      ]
     },
     "execution_count": 93,
     "metadata": {},
     "output_type": "execute_result"
    }
   ],
   "source": [
    "random.best_estimator_"
   ]
  },
  {
   "cell_type": "code",
   "execution_count": 94,
   "metadata": {},
   "outputs": [
    {
     "data": {
      "text/plain": [
       "{'random_seed': 30,\n",
       " 'od_wait': 40,\n",
       " 'metric_period': 70,\n",
       " 'bagging_temperature': 0.3}"
      ]
     },
     "execution_count": 94,
     "metadata": {},
     "output_type": "execute_result"
    }
   ],
   "source": [
    "random.best_params_"
   ]
  },
  {
   "cell_type": "code",
   "execution_count": 95,
   "metadata": {},
   "outputs": [
    {
     "data": {
      "text/plain": [
       "0.001039408317817969"
      ]
     },
     "execution_count": 95,
     "metadata": {},
     "output_type": "execute_result"
    }
   ],
   "source": [
    "y_pred_cat = random.predict_proba(X_test)\n",
    "log_loss(y_test, y_pred_cat)"
   ]
  },
  {
   "cell_type": "markdown",
   "metadata": {},
   "source": [
    "The table provides information on how important are features and how strongly they influence on the model. Based on the scores, the features can be selected for the final version."
   ]
  },
  {
   "cell_type": "markdown",
   "metadata": {},
   "source": [
    "# Restructure"
   ]
  },
  {
   "cell_type": "markdown",
   "metadata": {},
   "source": [
    "Based on the feature importance table, they can be selected for the final model and predictions. 'type_mean_email' exceeds the other importance scores dramaticaly, therefore it overfitting models and the column have to be removed. The features 'Life-Cycle', 'Generation' and 'age' are highly correcleted and represent one thing that is age. High correclated features works worse on tree-based algorithms and increases the chances to be overfitted. Since 'Life-Cycle' has higher score of importance on the model, it is selected for the final model. 'outgoing_min' and 'incoming_min' has no impact on the model and can be removed as well. 'loan_payment_mean' has to be removed as well since potentilly it is unknown how much customer can pay. "
   ]
  },
  {
   "cell_type": "markdown",
   "metadata": {},
   "source": [
    "Columns relate to payment amount are fit to the US reality. As results will be predicted for Latvian citizens, features of amount have to be adopted to the country reality. "
   ]
  },
  {
   "cell_type": "code",
   "execution_count": 175,
   "metadata": {},
   "outputs": [],
   "source": [
    "#Adoption to LV reality and rounding to 2 numbers after comma\n",
    "df['amount_mean']=round(df['amount_mean']/10,2)\n",
    "df['incoming_mean']=round(df['incoming_mean']/10, 2)\n",
    "df['outgoing_mean']=round(df['outgoing_mean']/10, 2)\n",
    "df['incoming_max']=round(df['incoming_max']/10, 2)\n",
    "df['outgoing_max']=round(df['outgoing_max']/10, 2)"
   ]
  },
  {
   "cell_type": "code",
   "execution_count": 176,
   "metadata": {},
   "outputs": [],
   "source": [
    "from sklearn.model_selection import train_test_split\n",
    "X = df[['status', 'location', 'amount_mean', 'operation_mean', 'incoming_mean', \n",
    "        'outgoing_mean', 'incoming_max', 'outgoing_max', 'Life-Cycle', \n",
    "        'Female', 'Male', 'email_types', 'Student', 'Employed', 'Resident']]\n",
    "Y = df.iloc[:, 8]\n",
    "X_train, X_test, y_train, y_test = train_test_split(X, Y, test_size=0.2, random_state=0)"
   ]
  },
  {
   "cell_type": "code",
   "execution_count": 177,
   "metadata": {},
   "outputs": [],
   "source": [
    "catboost_final = CatBoostClassifier(iterations=100,\n",
    "                             learning_rate=0.05,\n",
    "                             depth=10,\n",
    "                             eval_metric='MultiClass',\n",
    "                             random_seed = 10,\n",
    "                             bagging_temperature = 0.1,\n",
    "                             od_type='Iter',\n",
    "                             metric_period = 20,\n",
    "                             od_wait=5)"
   ]
  },
  {
   "cell_type": "code",
   "execution_count": 178,
   "metadata": {},
   "outputs": [
    {
     "name": "stderr",
     "output_type": "stream",
     "text": [
      "Warning: Overfitting detector is active, thus evaluation metric is calculated on every iteration. 'metric_period' is ignored for evaluation metric.\n"
     ]
    },
    {
     "name": "stdout",
     "output_type": "stream",
     "text": [
      "0:\tlearn: 1.3127346\ttest: 1.3151606\tbest: 1.3151606 (0)\ttotal: 1.13ms\tremaining: 112ms\n",
      "20:\tlearn: 0.8421578\ttest: 0.9156679\tbest: 0.9156679 (20)\ttotal: 876ms\tremaining: 3.29s\n",
      "40:\tlearn: 0.6910698\ttest: 0.8124614\tbest: 0.8124614 (40)\ttotal: 1.82s\tremaining: 2.62s\n",
      "60:\tlearn: 0.6063280\ttest: 0.7869256\tbest: 0.7869256 (60)\ttotal: 2.75s\tremaining: 1.76s\n",
      "80:\tlearn: 0.5465082\ttest: 0.7776609\tbest: 0.7776609 (80)\ttotal: 3.77s\tremaining: 883ms\n",
      "Stopped by overfitting detector  (5 iterations wait)\n",
      "\n",
      "bestTest = 0.7767423424\n",
      "bestIteration = 81\n",
      "\n",
      "Shrink model to first 82 iterations.\n"
     ]
    },
    {
     "data": {
      "text/plain": [
       "<catboost.core.CatBoostClassifier at 0x7fe1afa8d110>"
      ]
     },
     "execution_count": 178,
     "metadata": {},
     "output_type": "execute_result"
    }
   ],
   "source": [
    "catboost_final.fit(X_train, y_train,\n",
    "             eval_set=(X_test, y_test),\n",
    "             use_best_model=True,\n",
    "             verbose=20)"
   ]
  },
  {
   "cell_type": "code",
   "execution_count": 179,
   "metadata": {},
   "outputs": [],
   "source": [
    "pred_test_cat = catboost_final.predict_proba(X_test)"
   ]
  },
  {
   "cell_type": "code",
   "execution_count": 180,
   "metadata": {},
   "outputs": [
    {
     "data": {
      "text/plain": [
       "0.7767423424372074"
      ]
     },
     "execution_count": 180,
     "metadata": {},
     "output_type": "execute_result"
    }
   ],
   "source": [
    "log_loss(y_test, pred_test_cat)"
   ]
  },
  {
   "cell_type": "code",
   "execution_count": 184,
   "metadata": {},
   "outputs": [
    {
     "data": {
      "text/html": [
       "<div>\n",
       "<style scoped>\n",
       "    .dataframe tbody tr th:only-of-type {\n",
       "        vertical-align: middle;\n",
       "    }\n",
       "\n",
       "    .dataframe tbody tr th {\n",
       "        vertical-align: top;\n",
       "    }\n",
       "\n",
       "    .dataframe thead th {\n",
       "        text-align: right;\n",
       "    }\n",
       "</style>\n",
       "<table border=\"1\" class=\"dataframe\">\n",
       "  <thead>\n",
       "    <tr style=\"text-align: right;\">\n",
       "      <th></th>\n",
       "      <th>Feature Importance</th>\n",
       "    </tr>\n",
       "  </thead>\n",
       "  <tbody>\n",
       "    <tr>\n",
       "      <th>status</th>\n",
       "      <td>16.887239</td>\n",
       "    </tr>\n",
       "    <tr>\n",
       "      <th>email_types</th>\n",
       "      <td>11.651110</td>\n",
       "    </tr>\n",
       "    <tr>\n",
       "      <th>Life-Cycle</th>\n",
       "      <td>10.965092</td>\n",
       "    </tr>\n",
       "    <tr>\n",
       "      <th>operation_mean</th>\n",
       "      <td>7.867026</td>\n",
       "    </tr>\n",
       "    <tr>\n",
       "      <th>location</th>\n",
       "      <td>7.591448</td>\n",
       "    </tr>\n",
       "    <tr>\n",
       "      <th>outgoing_max</th>\n",
       "      <td>7.567692</td>\n",
       "    </tr>\n",
       "    <tr>\n",
       "      <th>Female</th>\n",
       "      <td>5.795170</td>\n",
       "    </tr>\n",
       "    <tr>\n",
       "      <th>incoming_max</th>\n",
       "      <td>5.474257</td>\n",
       "    </tr>\n",
       "    <tr>\n",
       "      <th>amount_mean</th>\n",
       "      <td>5.245389</td>\n",
       "    </tr>\n",
       "    <tr>\n",
       "      <th>outgoing_mean</th>\n",
       "      <td>4.920858</td>\n",
       "    </tr>\n",
       "    <tr>\n",
       "      <th>incoming_mean</th>\n",
       "      <td>4.695535</td>\n",
       "    </tr>\n",
       "    <tr>\n",
       "      <th>Male</th>\n",
       "      <td>3.662451</td>\n",
       "    </tr>\n",
       "    <tr>\n",
       "      <th>Student</th>\n",
       "      <td>3.482564</td>\n",
       "    </tr>\n",
       "    <tr>\n",
       "      <th>Employed</th>\n",
       "      <td>3.068970</td>\n",
       "    </tr>\n",
       "    <tr>\n",
       "      <th>Resident</th>\n",
       "      <td>1.125199</td>\n",
       "    </tr>\n",
       "  </tbody>\n",
       "</table>\n",
       "</div>"
      ],
      "text/plain": [
       "                Feature Importance\n",
       "status                   16.887239\n",
       "email_types              11.651110\n",
       "Life-Cycle               10.965092\n",
       "operation_mean            7.867026\n",
       "location                  7.591448\n",
       "outgoing_max              7.567692\n",
       "Female                    5.795170\n",
       "incoming_max              5.474257\n",
       "amount_mean               5.245389\n",
       "outgoing_mean             4.920858\n",
       "incoming_mean             4.695535\n",
       "Male                      3.662451\n",
       "Student                   3.482564\n",
       "Employed                  3.068970\n",
       "Resident                  1.125199"
      ]
     },
     "execution_count": 184,
     "metadata": {},
     "output_type": "execute_result"
    }
   ],
   "source": [
    "pd.DataFrame(catboost_final.feature_importances_,\n",
    "             index=X_train.columns, columns=['Feature Importance']).sort_values(\n",
    "    by='Feature Importance', ascending=False)[:16]"
   ]
  },
  {
   "cell_type": "markdown",
   "metadata": {},
   "source": [
    "# Predictions"
   ]
  },
  {
   "cell_type": "code",
   "execution_count": 159,
   "metadata": {},
   "outputs": [],
   "source": [
    "real_data = {'CUS_ID': ['001', '002', '003', '004', '005', '006', '007',\n",
    "                  '008', '009', '010'],\n",
    "       'Name': ['Arturs', 'Olegs', 'Valters', 'Aleksandrs', 'Madara',\n",
    "                 'Marija', 'Anna', 'Monta', 'Andris', 'Mihails'],\n",
    "       'Address': ['Krišjāņa Valdemāra iela 77', 'Ernesta Birznieka-Upīša iela 5-1',\n",
    "                  'Anniņmuižas bulvāris 38', 'Dammes 4', 'Daugavgrīvas 132',\n",
    "                  'Prūšu 17a', 'Ezermalas 4a', 'Hipokrāta 23', 'Ilūkstes 34',\n",
    "                  'Biķernieku 53'],\n",
    "        'status': ['0', '2', '3', '2', '0', '2', '3',\n",
    "                  '1', '2', '2'],\n",
    "        'location': ['1', '1', '1', '1', '1', '1', '1',\n",
    "                  '1', '1', '1'],\n",
    "        'amount_mean': ['720', '350', '439', '1198', '678', '358', '2119',\n",
    "                  '1287', '96', '105'],\n",
    "        'operation_mean': ['0.23', '1.68', '1.06', '2.12', '3.70', '2.61', '1.98',\n",
    "                  '0.99', '2.42', '2.32'],\n",
    "        'incoming_mean': ['600', '150', '430', '1100', '600', '250', '2100',\n",
    "                  '1200', '79', '98'],\n",
    "        'outgoing_mean': ['1152', '79', '124', '380', '320', '98', '1020',\n",
    "                  '987', '45', '38'],\n",
    "        'incoming_max': ['950', '300', '700', '1450', '1000', '500', '3175',\n",
    "                  '2150', '200', '150'],\n",
    "        'outgoing_max': ['200', '150', '300', '900', '765', '179', '2500',\n",
    "                  '1988', '100', '75'],\n",
    "        'Life-Cycle': ['1', '1', '0', '2', '3', '1', '2',\n",
    "                  '2', '1', '3'],\n",
    "        'Female': ['0', '0', '0', '0', '1', '1', '1',\n",
    "                  '1', '0', '0'],\n",
    "        'Male': ['1', '1', '1', '1', '0', '0', '0',\n",
    "                  '0', '1', '1'],\n",
    "       'email_types': ['0', '0', '0', '0', '0',\n",
    "                 '0', '0', '0', '0', '0'],\n",
    "       'Student':['1', '1', '0', '0', '0', '1', '0', '0', '1', '0'],# Is student?\n",
    "       'Employed':['1', '0', '0', '1', '0', '0', '1', '1', '0', '0'],# Is employed?\n",
    "       'Resident':['1', '1', '1', '0', '1', '0', '1', '1', '0', '1']# Is resident\n",
    "       }"
   ]
  },
  {
   "cell_type": "code",
   "execution_count": 160,
   "metadata": {},
   "outputs": [],
   "source": [
    "Real_Customers = pd.DataFrame(real_data, columns = ['CUS_ID', 'Name', 'Address', 'status', 'location', 'amount_mean', \n",
    "                                               'operation_mean', 'incoming_mean', 'outgoing_mean', 'incoming_max', \n",
    "                                               'outgoing_max', 'Life-Cycle', 'Female', 'Male', 'email_types',\n",
    "                                               'Student', 'Employed', 'Resident'])"
   ]
  },
  {
   "cell_type": "code",
   "execution_count": 161,
   "metadata": {},
   "outputs": [
    {
     "data": {
      "text/html": [
       "<div>\n",
       "<style scoped>\n",
       "    .dataframe tbody tr th:only-of-type {\n",
       "        vertical-align: middle;\n",
       "    }\n",
       "\n",
       "    .dataframe tbody tr th {\n",
       "        vertical-align: top;\n",
       "    }\n",
       "\n",
       "    .dataframe thead th {\n",
       "        text-align: right;\n",
       "    }\n",
       "</style>\n",
       "<table border=\"1\" class=\"dataframe\">\n",
       "  <thead>\n",
       "    <tr style=\"text-align: right;\">\n",
       "      <th></th>\n",
       "      <th>CUS_ID</th>\n",
       "      <th>Name</th>\n",
       "      <th>Address</th>\n",
       "      <th>status</th>\n",
       "      <th>location</th>\n",
       "      <th>amount_mean</th>\n",
       "      <th>operation_mean</th>\n",
       "      <th>incoming_mean</th>\n",
       "      <th>outgoing_mean</th>\n",
       "      <th>incoming_max</th>\n",
       "      <th>outgoing_max</th>\n",
       "      <th>Life-Cycle</th>\n",
       "      <th>Female</th>\n",
       "      <th>Male</th>\n",
       "      <th>email_types</th>\n",
       "      <th>Student</th>\n",
       "      <th>Employed</th>\n",
       "      <th>Resident</th>\n",
       "    </tr>\n",
       "  </thead>\n",
       "  <tbody>\n",
       "    <tr>\n",
       "      <th>0</th>\n",
       "      <td>001</td>\n",
       "      <td>Arturs</td>\n",
       "      <td>Krišjāņa Valdemāra iela 77</td>\n",
       "      <td>0</td>\n",
       "      <td>1</td>\n",
       "      <td>720</td>\n",
       "      <td>0.23</td>\n",
       "      <td>600</td>\n",
       "      <td>1152</td>\n",
       "      <td>950</td>\n",
       "      <td>200</td>\n",
       "      <td>1</td>\n",
       "      <td>0</td>\n",
       "      <td>1</td>\n",
       "      <td>0</td>\n",
       "      <td>1</td>\n",
       "      <td>1</td>\n",
       "      <td>1</td>\n",
       "    </tr>\n",
       "    <tr>\n",
       "      <th>1</th>\n",
       "      <td>002</td>\n",
       "      <td>Olegs</td>\n",
       "      <td>Ernesta Birznieka-Upīša iela 5-1</td>\n",
       "      <td>2</td>\n",
       "      <td>1</td>\n",
       "      <td>350</td>\n",
       "      <td>1.68</td>\n",
       "      <td>150</td>\n",
       "      <td>79</td>\n",
       "      <td>300</td>\n",
       "      <td>150</td>\n",
       "      <td>1</td>\n",
       "      <td>0</td>\n",
       "      <td>1</td>\n",
       "      <td>0</td>\n",
       "      <td>1</td>\n",
       "      <td>0</td>\n",
       "      <td>1</td>\n",
       "    </tr>\n",
       "    <tr>\n",
       "      <th>2</th>\n",
       "      <td>003</td>\n",
       "      <td>Valters</td>\n",
       "      <td>Anniņmuižas bulvāris 38</td>\n",
       "      <td>3</td>\n",
       "      <td>1</td>\n",
       "      <td>439</td>\n",
       "      <td>1.06</td>\n",
       "      <td>430</td>\n",
       "      <td>124</td>\n",
       "      <td>700</td>\n",
       "      <td>300</td>\n",
       "      <td>0</td>\n",
       "      <td>0</td>\n",
       "      <td>1</td>\n",
       "      <td>0</td>\n",
       "      <td>0</td>\n",
       "      <td>0</td>\n",
       "      <td>1</td>\n",
       "    </tr>\n",
       "    <tr>\n",
       "      <th>3</th>\n",
       "      <td>004</td>\n",
       "      <td>Aleksandrs</td>\n",
       "      <td>Dammes 4</td>\n",
       "      <td>2</td>\n",
       "      <td>1</td>\n",
       "      <td>1198</td>\n",
       "      <td>2.12</td>\n",
       "      <td>1100</td>\n",
       "      <td>380</td>\n",
       "      <td>1450</td>\n",
       "      <td>900</td>\n",
       "      <td>2</td>\n",
       "      <td>0</td>\n",
       "      <td>1</td>\n",
       "      <td>0</td>\n",
       "      <td>0</td>\n",
       "      <td>1</td>\n",
       "      <td>0</td>\n",
       "    </tr>\n",
       "    <tr>\n",
       "      <th>4</th>\n",
       "      <td>005</td>\n",
       "      <td>Madara</td>\n",
       "      <td>Daugavgrīvas 132</td>\n",
       "      <td>0</td>\n",
       "      <td>1</td>\n",
       "      <td>678</td>\n",
       "      <td>3.70</td>\n",
       "      <td>600</td>\n",
       "      <td>320</td>\n",
       "      <td>1000</td>\n",
       "      <td>765</td>\n",
       "      <td>3</td>\n",
       "      <td>1</td>\n",
       "      <td>0</td>\n",
       "      <td>0</td>\n",
       "      <td>0</td>\n",
       "      <td>0</td>\n",
       "      <td>1</td>\n",
       "    </tr>\n",
       "    <tr>\n",
       "      <th>5</th>\n",
       "      <td>006</td>\n",
       "      <td>Marija</td>\n",
       "      <td>Prūšu 17a</td>\n",
       "      <td>2</td>\n",
       "      <td>1</td>\n",
       "      <td>358</td>\n",
       "      <td>2.61</td>\n",
       "      <td>250</td>\n",
       "      <td>98</td>\n",
       "      <td>500</td>\n",
       "      <td>179</td>\n",
       "      <td>1</td>\n",
       "      <td>1</td>\n",
       "      <td>0</td>\n",
       "      <td>0</td>\n",
       "      <td>1</td>\n",
       "      <td>0</td>\n",
       "      <td>0</td>\n",
       "    </tr>\n",
       "    <tr>\n",
       "      <th>6</th>\n",
       "      <td>007</td>\n",
       "      <td>Anna</td>\n",
       "      <td>Ezermalas 4a</td>\n",
       "      <td>3</td>\n",
       "      <td>1</td>\n",
       "      <td>2119</td>\n",
       "      <td>1.98</td>\n",
       "      <td>2100</td>\n",
       "      <td>1020</td>\n",
       "      <td>3175</td>\n",
       "      <td>2500</td>\n",
       "      <td>2</td>\n",
       "      <td>1</td>\n",
       "      <td>0</td>\n",
       "      <td>0</td>\n",
       "      <td>0</td>\n",
       "      <td>1</td>\n",
       "      <td>1</td>\n",
       "    </tr>\n",
       "    <tr>\n",
       "      <th>7</th>\n",
       "      <td>008</td>\n",
       "      <td>Monta</td>\n",
       "      <td>Hipokrāta 23</td>\n",
       "      <td>1</td>\n",
       "      <td>1</td>\n",
       "      <td>1287</td>\n",
       "      <td>0.99</td>\n",
       "      <td>1200</td>\n",
       "      <td>987</td>\n",
       "      <td>2150</td>\n",
       "      <td>1988</td>\n",
       "      <td>2</td>\n",
       "      <td>1</td>\n",
       "      <td>0</td>\n",
       "      <td>0</td>\n",
       "      <td>0</td>\n",
       "      <td>1</td>\n",
       "      <td>1</td>\n",
       "    </tr>\n",
       "    <tr>\n",
       "      <th>8</th>\n",
       "      <td>009</td>\n",
       "      <td>Andris</td>\n",
       "      <td>Ilūkstes 34</td>\n",
       "      <td>2</td>\n",
       "      <td>1</td>\n",
       "      <td>96</td>\n",
       "      <td>2.42</td>\n",
       "      <td>79</td>\n",
       "      <td>45</td>\n",
       "      <td>200</td>\n",
       "      <td>100</td>\n",
       "      <td>1</td>\n",
       "      <td>0</td>\n",
       "      <td>1</td>\n",
       "      <td>0</td>\n",
       "      <td>1</td>\n",
       "      <td>0</td>\n",
       "      <td>0</td>\n",
       "    </tr>\n",
       "    <tr>\n",
       "      <th>9</th>\n",
       "      <td>010</td>\n",
       "      <td>Mihails</td>\n",
       "      <td>Biķernieku 53</td>\n",
       "      <td>2</td>\n",
       "      <td>1</td>\n",
       "      <td>105</td>\n",
       "      <td>2.32</td>\n",
       "      <td>98</td>\n",
       "      <td>38</td>\n",
       "      <td>150</td>\n",
       "      <td>75</td>\n",
       "      <td>3</td>\n",
       "      <td>0</td>\n",
       "      <td>1</td>\n",
       "      <td>0</td>\n",
       "      <td>0</td>\n",
       "      <td>0</td>\n",
       "      <td>1</td>\n",
       "    </tr>\n",
       "  </tbody>\n",
       "</table>\n",
       "</div>"
      ],
      "text/plain": [
       "  CUS_ID        Name                           Address status location  \\\n",
       "0    001      Arturs        Krišjāņa Valdemāra iela 77      0        1   \n",
       "1    002       Olegs  Ernesta Birznieka-Upīša iela 5-1      2        1   \n",
       "2    003     Valters           Anniņmuižas bulvāris 38      3        1   \n",
       "3    004  Aleksandrs                          Dammes 4      2        1   \n",
       "4    005      Madara                  Daugavgrīvas 132      0        1   \n",
       "5    006      Marija                         Prūšu 17a      2        1   \n",
       "6    007        Anna                      Ezermalas 4a      3        1   \n",
       "7    008       Monta                      Hipokrāta 23      1        1   \n",
       "8    009      Andris                       Ilūkstes 34      2        1   \n",
       "9    010     Mihails                     Biķernieku 53      2        1   \n",
       "\n",
       "  amount_mean operation_mean incoming_mean outgoing_mean incoming_max  \\\n",
       "0         720           0.23           600          1152          950   \n",
       "1         350           1.68           150            79          300   \n",
       "2         439           1.06           430           124          700   \n",
       "3        1198           2.12          1100           380         1450   \n",
       "4         678           3.70           600           320         1000   \n",
       "5         358           2.61           250            98          500   \n",
       "6        2119           1.98          2100          1020         3175   \n",
       "7        1287           0.99          1200           987         2150   \n",
       "8          96           2.42            79            45          200   \n",
       "9         105           2.32            98            38          150   \n",
       "\n",
       "  outgoing_max Life-Cycle Female Male email_types Student Employed Resident  \n",
       "0          200          1      0    1           0       1        1        1  \n",
       "1          150          1      0    1           0       1        0        1  \n",
       "2          300          0      0    1           0       0        0        1  \n",
       "3          900          2      0    1           0       0        1        0  \n",
       "4          765          3      1    0           0       0        0        1  \n",
       "5          179          1      1    0           0       1        0        0  \n",
       "6         2500          2      1    0           0       0        1        1  \n",
       "7         1988          2      1    0           0       0        1        1  \n",
       "8          100          1      0    1           0       1        0        0  \n",
       "9           75          3      0    1           0       0        0        1  "
      ]
     },
     "execution_count": 161,
     "metadata": {},
     "output_type": "execute_result"
    }
   ],
   "source": [
    "Real_Customers"
   ]
  },
  {
   "cell_type": "code",
   "execution_count": 162,
   "metadata": {},
   "outputs": [],
   "source": [
    "Real_Customers.to_excel (r'/Users/amihailovs/Desktop/Business Analytics/real_customers.xlsx', index = False, header=True)"
   ]
  },
  {
   "cell_type": "code",
   "execution_count": 163,
   "metadata": {},
   "outputs": [],
   "source": [
    "Prediction_cols = ['status', 'location', 'amount_mean', 'operation_mean', \n",
    "                   'incoming_mean', 'outgoing_mean', 'incoming_max','outgoing_max', \n",
    "                   'Life-Cycle', 'Female', 'Male', 'email_types', 'Student', 'Employed', 'Resident']"
   ]
  },
  {
   "cell_type": "code",
   "execution_count": 164,
   "metadata": {},
   "outputs": [],
   "source": [
    "real_pred_cat = random.predict_proba(Real_Customers[Prediction_cols])"
   ]
  },
  {
   "cell_type": "code",
   "execution_count": 165,
   "metadata": {},
   "outputs": [],
   "source": [
    "prediction_columns = ['car', 'debt_consolidation', 'home', 'home_improvement']"
   ]
  },
  {
   "cell_type": "code",
   "execution_count": 166,
   "metadata": {},
   "outputs": [],
   "source": [
    "Predictions = round(pd.DataFrame(real_pred_cat, columns=prediction_columns), 2)"
   ]
  },
  {
   "cell_type": "code",
   "execution_count": 167,
   "metadata": {},
   "outputs": [
    {
     "data": {
      "text/html": [
       "<div>\n",
       "<style scoped>\n",
       "    .dataframe tbody tr th:only-of-type {\n",
       "        vertical-align: middle;\n",
       "    }\n",
       "\n",
       "    .dataframe tbody tr th {\n",
       "        vertical-align: top;\n",
       "    }\n",
       "\n",
       "    .dataframe thead th {\n",
       "        text-align: right;\n",
       "    }\n",
       "</style>\n",
       "<table border=\"1\" class=\"dataframe\">\n",
       "  <thead>\n",
       "    <tr style=\"text-align: right;\">\n",
       "      <th></th>\n",
       "      <th>car</th>\n",
       "      <th>debt_consolidation</th>\n",
       "      <th>home</th>\n",
       "      <th>home_improvement</th>\n",
       "    </tr>\n",
       "  </thead>\n",
       "  <tbody>\n",
       "    <tr>\n",
       "      <th>0</th>\n",
       "      <td>0.02</td>\n",
       "      <td>0.14</td>\n",
       "      <td>0.78</td>\n",
       "      <td>0.07</td>\n",
       "    </tr>\n",
       "    <tr>\n",
       "      <th>1</th>\n",
       "      <td>0.07</td>\n",
       "      <td>0.14</td>\n",
       "      <td>0.64</td>\n",
       "      <td>0.15</td>\n",
       "    </tr>\n",
       "    <tr>\n",
       "      <th>2</th>\n",
       "      <td>0.01</td>\n",
       "      <td>0.01</td>\n",
       "      <td>0.93</td>\n",
       "      <td>0.05</td>\n",
       "    </tr>\n",
       "    <tr>\n",
       "      <th>3</th>\n",
       "      <td>0.00</td>\n",
       "      <td>0.04</td>\n",
       "      <td>0.95</td>\n",
       "      <td>0.01</td>\n",
       "    </tr>\n",
       "    <tr>\n",
       "      <th>4</th>\n",
       "      <td>0.01</td>\n",
       "      <td>0.09</td>\n",
       "      <td>0.88</td>\n",
       "      <td>0.01</td>\n",
       "    </tr>\n",
       "    <tr>\n",
       "      <th>5</th>\n",
       "      <td>0.13</td>\n",
       "      <td>0.31</td>\n",
       "      <td>0.25</td>\n",
       "      <td>0.31</td>\n",
       "    </tr>\n",
       "    <tr>\n",
       "      <th>6</th>\n",
       "      <td>0.00</td>\n",
       "      <td>0.05</td>\n",
       "      <td>0.92</td>\n",
       "      <td>0.02</td>\n",
       "    </tr>\n",
       "    <tr>\n",
       "      <th>7</th>\n",
       "      <td>0.01</td>\n",
       "      <td>0.09</td>\n",
       "      <td>0.78</td>\n",
       "      <td>0.12</td>\n",
       "    </tr>\n",
       "    <tr>\n",
       "      <th>8</th>\n",
       "      <td>0.10</td>\n",
       "      <td>0.13</td>\n",
       "      <td>0.63</td>\n",
       "      <td>0.14</td>\n",
       "    </tr>\n",
       "    <tr>\n",
       "      <th>9</th>\n",
       "      <td>0.04</td>\n",
       "      <td>0.14</td>\n",
       "      <td>0.80</td>\n",
       "      <td>0.02</td>\n",
       "    </tr>\n",
       "  </tbody>\n",
       "</table>\n",
       "</div>"
      ],
      "text/plain": [
       "    car  debt_consolidation  home  home_improvement\n",
       "0  0.02                0.14  0.78              0.07\n",
       "1  0.07                0.14  0.64              0.15\n",
       "2  0.01                0.01  0.93              0.05\n",
       "3  0.00                0.04  0.95              0.01\n",
       "4  0.01                0.09  0.88              0.01\n",
       "5  0.13                0.31  0.25              0.31\n",
       "6  0.00                0.05  0.92              0.02\n",
       "7  0.01                0.09  0.78              0.12\n",
       "8  0.10                0.13  0.63              0.14\n",
       "9  0.04                0.14  0.80              0.02"
      ]
     },
     "execution_count": 167,
     "metadata": {},
     "output_type": "execute_result"
    }
   ],
   "source": [
    "Predictions"
   ]
  },
  {
   "cell_type": "code",
   "execution_count": 168,
   "metadata": {},
   "outputs": [
    {
     "data": {
      "text/html": [
       "<div>\n",
       "<style scoped>\n",
       "    .dataframe tbody tr th:only-of-type {\n",
       "        vertical-align: middle;\n",
       "    }\n",
       "\n",
       "    .dataframe tbody tr th {\n",
       "        vertical-align: top;\n",
       "    }\n",
       "\n",
       "    .dataframe thead th {\n",
       "        text-align: right;\n",
       "    }\n",
       "</style>\n",
       "<table border=\"1\" class=\"dataframe\">\n",
       "  <thead>\n",
       "    <tr style=\"text-align: right;\">\n",
       "      <th></th>\n",
       "      <th>CUS_ID</th>\n",
       "      <th>Name</th>\n",
       "      <th>Address</th>\n",
       "      <th>status</th>\n",
       "      <th>location</th>\n",
       "      <th>amount_mean</th>\n",
       "      <th>operation_mean</th>\n",
       "      <th>incoming_mean</th>\n",
       "      <th>outgoing_mean</th>\n",
       "      <th>incoming_max</th>\n",
       "      <th>outgoing_max</th>\n",
       "      <th>Life-Cycle</th>\n",
       "      <th>Female</th>\n",
       "      <th>Male</th>\n",
       "      <th>email_types</th>\n",
       "      <th>Student</th>\n",
       "      <th>Employed</th>\n",
       "      <th>Resident</th>\n",
       "    </tr>\n",
       "  </thead>\n",
       "  <tbody>\n",
       "    <tr>\n",
       "      <th>0</th>\n",
       "      <td>001</td>\n",
       "      <td>Arturs</td>\n",
       "      <td>Krišjāņa Valdemāra iela 77</td>\n",
       "      <td>0</td>\n",
       "      <td>1</td>\n",
       "      <td>720</td>\n",
       "      <td>0.23</td>\n",
       "      <td>600</td>\n",
       "      <td>1152</td>\n",
       "      <td>950</td>\n",
       "      <td>200</td>\n",
       "      <td>1</td>\n",
       "      <td>0</td>\n",
       "      <td>1</td>\n",
       "      <td>0</td>\n",
       "      <td>1</td>\n",
       "      <td>1</td>\n",
       "      <td>1</td>\n",
       "    </tr>\n",
       "    <tr>\n",
       "      <th>1</th>\n",
       "      <td>002</td>\n",
       "      <td>Olegs</td>\n",
       "      <td>Ernesta Birznieka-Upīša iela 5-1</td>\n",
       "      <td>2</td>\n",
       "      <td>1</td>\n",
       "      <td>350</td>\n",
       "      <td>1.68</td>\n",
       "      <td>150</td>\n",
       "      <td>79</td>\n",
       "      <td>300</td>\n",
       "      <td>150</td>\n",
       "      <td>1</td>\n",
       "      <td>0</td>\n",
       "      <td>1</td>\n",
       "      <td>0</td>\n",
       "      <td>1</td>\n",
       "      <td>0</td>\n",
       "      <td>1</td>\n",
       "    </tr>\n",
       "    <tr>\n",
       "      <th>2</th>\n",
       "      <td>003</td>\n",
       "      <td>Valters</td>\n",
       "      <td>Anniņmuižas bulvāris 38</td>\n",
       "      <td>3</td>\n",
       "      <td>1</td>\n",
       "      <td>439</td>\n",
       "      <td>1.06</td>\n",
       "      <td>430</td>\n",
       "      <td>124</td>\n",
       "      <td>700</td>\n",
       "      <td>300</td>\n",
       "      <td>0</td>\n",
       "      <td>0</td>\n",
       "      <td>1</td>\n",
       "      <td>0</td>\n",
       "      <td>0</td>\n",
       "      <td>0</td>\n",
       "      <td>1</td>\n",
       "    </tr>\n",
       "    <tr>\n",
       "      <th>3</th>\n",
       "      <td>004</td>\n",
       "      <td>Aleksandrs</td>\n",
       "      <td>Dammes 4</td>\n",
       "      <td>2</td>\n",
       "      <td>1</td>\n",
       "      <td>1198</td>\n",
       "      <td>2.12</td>\n",
       "      <td>1100</td>\n",
       "      <td>380</td>\n",
       "      <td>1450</td>\n",
       "      <td>900</td>\n",
       "      <td>2</td>\n",
       "      <td>0</td>\n",
       "      <td>1</td>\n",
       "      <td>0</td>\n",
       "      <td>0</td>\n",
       "      <td>1</td>\n",
       "      <td>0</td>\n",
       "    </tr>\n",
       "    <tr>\n",
       "      <th>4</th>\n",
       "      <td>005</td>\n",
       "      <td>Madara</td>\n",
       "      <td>Daugavgrīvas 132</td>\n",
       "      <td>0</td>\n",
       "      <td>1</td>\n",
       "      <td>678</td>\n",
       "      <td>3.70</td>\n",
       "      <td>600</td>\n",
       "      <td>320</td>\n",
       "      <td>1000</td>\n",
       "      <td>765</td>\n",
       "      <td>3</td>\n",
       "      <td>1</td>\n",
       "      <td>0</td>\n",
       "      <td>0</td>\n",
       "      <td>0</td>\n",
       "      <td>0</td>\n",
       "      <td>1</td>\n",
       "    </tr>\n",
       "    <tr>\n",
       "      <th>5</th>\n",
       "      <td>006</td>\n",
       "      <td>Marija</td>\n",
       "      <td>Prūšu 17a</td>\n",
       "      <td>2</td>\n",
       "      <td>1</td>\n",
       "      <td>358</td>\n",
       "      <td>2.61</td>\n",
       "      <td>250</td>\n",
       "      <td>98</td>\n",
       "      <td>500</td>\n",
       "      <td>179</td>\n",
       "      <td>1</td>\n",
       "      <td>1</td>\n",
       "      <td>0</td>\n",
       "      <td>0</td>\n",
       "      <td>1</td>\n",
       "      <td>0</td>\n",
       "      <td>0</td>\n",
       "    </tr>\n",
       "    <tr>\n",
       "      <th>6</th>\n",
       "      <td>007</td>\n",
       "      <td>Anna</td>\n",
       "      <td>Ezermalas 4a</td>\n",
       "      <td>3</td>\n",
       "      <td>1</td>\n",
       "      <td>2119</td>\n",
       "      <td>1.98</td>\n",
       "      <td>2100</td>\n",
       "      <td>1020</td>\n",
       "      <td>3175</td>\n",
       "      <td>2500</td>\n",
       "      <td>2</td>\n",
       "      <td>1</td>\n",
       "      <td>0</td>\n",
       "      <td>0</td>\n",
       "      <td>0</td>\n",
       "      <td>1</td>\n",
       "      <td>1</td>\n",
       "    </tr>\n",
       "    <tr>\n",
       "      <th>7</th>\n",
       "      <td>008</td>\n",
       "      <td>Monta</td>\n",
       "      <td>Hipokrāta 23</td>\n",
       "      <td>1</td>\n",
       "      <td>1</td>\n",
       "      <td>1287</td>\n",
       "      <td>0.99</td>\n",
       "      <td>1200</td>\n",
       "      <td>987</td>\n",
       "      <td>2150</td>\n",
       "      <td>1988</td>\n",
       "      <td>2</td>\n",
       "      <td>1</td>\n",
       "      <td>0</td>\n",
       "      <td>0</td>\n",
       "      <td>0</td>\n",
       "      <td>1</td>\n",
       "      <td>1</td>\n",
       "    </tr>\n",
       "    <tr>\n",
       "      <th>8</th>\n",
       "      <td>009</td>\n",
       "      <td>Andris</td>\n",
       "      <td>Ilūkstes 34</td>\n",
       "      <td>2</td>\n",
       "      <td>1</td>\n",
       "      <td>96</td>\n",
       "      <td>2.42</td>\n",
       "      <td>79</td>\n",
       "      <td>45</td>\n",
       "      <td>200</td>\n",
       "      <td>100</td>\n",
       "      <td>1</td>\n",
       "      <td>0</td>\n",
       "      <td>1</td>\n",
       "      <td>0</td>\n",
       "      <td>1</td>\n",
       "      <td>0</td>\n",
       "      <td>0</td>\n",
       "    </tr>\n",
       "    <tr>\n",
       "      <th>9</th>\n",
       "      <td>010</td>\n",
       "      <td>Mihails</td>\n",
       "      <td>Biķernieku 53</td>\n",
       "      <td>2</td>\n",
       "      <td>1</td>\n",
       "      <td>105</td>\n",
       "      <td>2.32</td>\n",
       "      <td>98</td>\n",
       "      <td>38</td>\n",
       "      <td>150</td>\n",
       "      <td>75</td>\n",
       "      <td>3</td>\n",
       "      <td>0</td>\n",
       "      <td>1</td>\n",
       "      <td>0</td>\n",
       "      <td>0</td>\n",
       "      <td>0</td>\n",
       "      <td>1</td>\n",
       "    </tr>\n",
       "  </tbody>\n",
       "</table>\n",
       "</div>"
      ],
      "text/plain": [
       "  CUS_ID        Name                           Address status location  \\\n",
       "0    001      Arturs        Krišjāņa Valdemāra iela 77      0        1   \n",
       "1    002       Olegs  Ernesta Birznieka-Upīša iela 5-1      2        1   \n",
       "2    003     Valters           Anniņmuižas bulvāris 38      3        1   \n",
       "3    004  Aleksandrs                          Dammes 4      2        1   \n",
       "4    005      Madara                  Daugavgrīvas 132      0        1   \n",
       "5    006      Marija                         Prūšu 17a      2        1   \n",
       "6    007        Anna                      Ezermalas 4a      3        1   \n",
       "7    008       Monta                      Hipokrāta 23      1        1   \n",
       "8    009      Andris                       Ilūkstes 34      2        1   \n",
       "9    010     Mihails                     Biķernieku 53      2        1   \n",
       "\n",
       "  amount_mean operation_mean incoming_mean outgoing_mean incoming_max  \\\n",
       "0         720           0.23           600          1152          950   \n",
       "1         350           1.68           150            79          300   \n",
       "2         439           1.06           430           124          700   \n",
       "3        1198           2.12          1100           380         1450   \n",
       "4         678           3.70           600           320         1000   \n",
       "5         358           2.61           250            98          500   \n",
       "6        2119           1.98          2100          1020         3175   \n",
       "7        1287           0.99          1200           987         2150   \n",
       "8          96           2.42            79            45          200   \n",
       "9         105           2.32            98            38          150   \n",
       "\n",
       "  outgoing_max Life-Cycle Female Male email_types Student Employed Resident  \n",
       "0          200          1      0    1           0       1        1        1  \n",
       "1          150          1      0    1           0       1        0        1  \n",
       "2          300          0      0    1           0       0        0        1  \n",
       "3          900          2      0    1           0       0        1        0  \n",
       "4          765          3      1    0           0       0        0        1  \n",
       "5          179          1      1    0           0       1        0        0  \n",
       "6         2500          2      1    0           0       0        1        1  \n",
       "7         1988          2      1    0           0       0        1        1  \n",
       "8          100          1      0    1           0       1        0        0  \n",
       "9           75          3      0    1           0       0        0        1  "
      ]
     },
     "execution_count": 168,
     "metadata": {},
     "output_type": "execute_result"
    }
   ],
   "source": [
    "Real_Customers"
   ]
  },
  {
   "cell_type": "code",
   "execution_count": 169,
   "metadata": {},
   "outputs": [],
   "source": [
    "full_cust_list = pd.concat([Real_Customers, Predictions], axis=1, join='inner')"
   ]
  },
  {
   "cell_type": "code",
   "execution_count": 170,
   "metadata": {},
   "outputs": [
    {
     "data": {
      "text/html": [
       "<div>\n",
       "<style scoped>\n",
       "    .dataframe tbody tr th:only-of-type {\n",
       "        vertical-align: middle;\n",
       "    }\n",
       "\n",
       "    .dataframe tbody tr th {\n",
       "        vertical-align: top;\n",
       "    }\n",
       "\n",
       "    .dataframe thead th {\n",
       "        text-align: right;\n",
       "    }\n",
       "</style>\n",
       "<table border=\"1\" class=\"dataframe\">\n",
       "  <thead>\n",
       "    <tr style=\"text-align: right;\">\n",
       "      <th></th>\n",
       "      <th>Name</th>\n",
       "      <th>car</th>\n",
       "      <th>debt_consolidation</th>\n",
       "      <th>home</th>\n",
       "      <th>home_improvement</th>\n",
       "    </tr>\n",
       "  </thead>\n",
       "  <tbody>\n",
       "    <tr>\n",
       "      <th>0</th>\n",
       "      <td>Arturs</td>\n",
       "      <td>0.02</td>\n",
       "      <td>0.14</td>\n",
       "      <td>0.78</td>\n",
       "      <td>0.07</td>\n",
       "    </tr>\n",
       "    <tr>\n",
       "      <th>1</th>\n",
       "      <td>Olegs</td>\n",
       "      <td>0.07</td>\n",
       "      <td>0.14</td>\n",
       "      <td>0.64</td>\n",
       "      <td>0.15</td>\n",
       "    </tr>\n",
       "    <tr>\n",
       "      <th>2</th>\n",
       "      <td>Valters</td>\n",
       "      <td>0.01</td>\n",
       "      <td>0.01</td>\n",
       "      <td>0.93</td>\n",
       "      <td>0.05</td>\n",
       "    </tr>\n",
       "    <tr>\n",
       "      <th>3</th>\n",
       "      <td>Aleksandrs</td>\n",
       "      <td>0.00</td>\n",
       "      <td>0.04</td>\n",
       "      <td>0.95</td>\n",
       "      <td>0.01</td>\n",
       "    </tr>\n",
       "    <tr>\n",
       "      <th>4</th>\n",
       "      <td>Madara</td>\n",
       "      <td>0.01</td>\n",
       "      <td>0.09</td>\n",
       "      <td>0.88</td>\n",
       "      <td>0.01</td>\n",
       "    </tr>\n",
       "    <tr>\n",
       "      <th>5</th>\n",
       "      <td>Marija</td>\n",
       "      <td>0.13</td>\n",
       "      <td>0.31</td>\n",
       "      <td>0.25</td>\n",
       "      <td>0.31</td>\n",
       "    </tr>\n",
       "    <tr>\n",
       "      <th>6</th>\n",
       "      <td>Anna</td>\n",
       "      <td>0.00</td>\n",
       "      <td>0.05</td>\n",
       "      <td>0.92</td>\n",
       "      <td>0.02</td>\n",
       "    </tr>\n",
       "    <tr>\n",
       "      <th>7</th>\n",
       "      <td>Monta</td>\n",
       "      <td>0.01</td>\n",
       "      <td>0.09</td>\n",
       "      <td>0.78</td>\n",
       "      <td>0.12</td>\n",
       "    </tr>\n",
       "    <tr>\n",
       "      <th>8</th>\n",
       "      <td>Andris</td>\n",
       "      <td>0.10</td>\n",
       "      <td>0.13</td>\n",
       "      <td>0.63</td>\n",
       "      <td>0.14</td>\n",
       "    </tr>\n",
       "    <tr>\n",
       "      <th>9</th>\n",
       "      <td>Mihails</td>\n",
       "      <td>0.04</td>\n",
       "      <td>0.14</td>\n",
       "      <td>0.80</td>\n",
       "      <td>0.02</td>\n",
       "    </tr>\n",
       "  </tbody>\n",
       "</table>\n",
       "</div>"
      ],
      "text/plain": [
       "         Name   car  debt_consolidation  home  home_improvement\n",
       "0      Arturs  0.02                0.14  0.78              0.07\n",
       "1       Olegs  0.07                0.14  0.64              0.15\n",
       "2     Valters  0.01                0.01  0.93              0.05\n",
       "3  Aleksandrs  0.00                0.04  0.95              0.01\n",
       "4      Madara  0.01                0.09  0.88              0.01\n",
       "5      Marija  0.13                0.31  0.25              0.31\n",
       "6        Anna  0.00                0.05  0.92              0.02\n",
       "7       Monta  0.01                0.09  0.78              0.12\n",
       "8      Andris  0.10                0.13  0.63              0.14\n",
       "9     Mihails  0.04                0.14  0.80              0.02"
      ]
     },
     "execution_count": 170,
     "metadata": {},
     "output_type": "execute_result"
    }
   ],
   "source": [
    "full_cust_list[['Name', 'car', 'debt_consolidation', 'home', 'home_improvement']]"
   ]
  },
  {
   "cell_type": "code",
   "execution_count": null,
   "metadata": {},
   "outputs": [],
   "source": []
  },
  {
   "cell_type": "code",
   "execution_count": null,
   "metadata": {},
   "outputs": [],
   "source": []
  },
  {
   "cell_type": "code",
   "execution_count": null,
   "metadata": {},
   "outputs": [],
   "source": []
  },
  {
   "cell_type": "code",
   "execution_count": null,
   "metadata": {},
   "outputs": [],
   "source": []
  },
  {
   "cell_type": "code",
   "execution_count": null,
   "metadata": {},
   "outputs": [],
   "source": []
  },
  {
   "cell_type": "code",
   "execution_count": null,
   "metadata": {},
   "outputs": [],
   "source": []
  }
 ],
 "metadata": {
  "kernelspec": {
   "display_name": "Python 3",
   "language": "python",
   "name": "python3"
  },
  "language_info": {
   "codemirror_mode": {
    "name": "ipython",
    "version": 3
   },
   "file_extension": ".py",
   "mimetype": "text/x-python",
   "name": "python",
   "nbconvert_exporter": "python",
   "pygments_lexer": "ipython3",
   "version": "3.7.4"
  }
 },
 "nbformat": 4,
 "nbformat_minor": 2
}
